{
 "cells": [
  {
   "cell_type": "markdown",
   "metadata": {},
   "source": [
    "# Ujian Modul 2 - Purwadhika Data Science JC Program\n",
    "\n",
    "## Context - Taken from Kaggle\n",
    "Did you know that claims can be filed against TSA? Sometimes US Terminal Security Agency (TSA) makes mistakes. People can get hurt and property can be damaged, lost, or stolen. Claims are generally filed against TSA for personal injuries and lost or damaged property during screenings and they keep records of every claim!\n",
    "\n",
    "### Content\n",
    "The dataset includes claims filed between 2002 through 2015.\n",
    "\n",
    "1. Claim Number\n",
    "1. Date Received\n",
    "1. Incident Date\n",
    "1. Airport Code\n",
    "1. Airport Name\n",
    "1. Airline Name\n",
    "1. Claim Type\n",
    "1. Claim Site\n",
    "1. Item\n",
    "1. Claim Amount\n",
    "1. Status\n",
    "1. Close Amount\n",
    "1. Disposition\n",
    "\n",
    "This data is coming from the Kaggle Dataset that contain the data of clain the been filed into the TSA. We would try to explore the data and clean the data partially (we would not clean and analyze everything as it would take more time than necessary) and we would only use 25% data from the original dataset.\n",
    "\n",
    "This exam scoring would be explained below:\n",
    "\n",
    "- This Notebook would have total score of 80 (+ 10 Bonus POINT for Bonus Question), which consist of:\n",
    "    - 40 POINT for the Question part (10 point for each question)\n",
    "    - 40 POINT for the preprocessing part by following the guide\n",
    "- The Dashboard would yield 20 POINT\n",
    "- The Maximum Score would be still 100, Bonus Question is just a Bonus. Work it if you have an extra time and already sure about all your other answer (or not sure about the other question, and need this bonus question to help)\n",
    "\n",
    "When you finish, upload your notebook contain all the answers and the script for the dashboard to your github. You do not need to upload the .csv file. "
   ]
  },
  {
   "cell_type": "markdown",
   "metadata": {},
   "source": [
    "Try to read the data and show all the important info first. For starter, try to understand what each column represent."
   ]
  },
  {
   "cell_type": "code",
   "execution_count": 1,
   "metadata": {
    "ExecuteTime": {
     "end_time": "2019-10-12T18:25:33.696101Z",
     "start_time": "2019-10-12T18:25:30.439737Z"
    }
   },
   "outputs": [],
   "source": [
    "import pandas as pd\n",
    "import numpy as np\n",
    "import matplotlib.pyplot as plt\n",
    "\n",
    "%matplotlib inline"
   ]
  },
  {
   "cell_type": "code",
   "execution_count": 2,
   "metadata": {
    "ExecuteTime": {
     "end_time": "2019-10-12T18:25:33.862002Z",
     "start_time": "2019-10-12T18:25:33.697102Z"
    }
   },
   "outputs": [],
   "source": [
    "data = pd.read_csv('tsa_claims_ujian.csv')"
   ]
  },
  {
   "cell_type": "code",
   "execution_count": 3,
   "metadata": {
    "ExecuteTime": {
     "end_time": "2019-10-12T18:25:33.876991Z",
     "start_time": "2019-10-12T18:25:33.862944Z"
    }
   },
   "outputs": [
    {
     "data": {
      "text/html": [
       "<div>\n",
       "<style scoped>\n",
       "    .dataframe tbody tr th:only-of-type {\n",
       "        vertical-align: middle;\n",
       "    }\n",
       "\n",
       "    .dataframe tbody tr th {\n",
       "        vertical-align: top;\n",
       "    }\n",
       "\n",
       "    .dataframe thead th {\n",
       "        text-align: right;\n",
       "    }\n",
       "</style>\n",
       "<table border=\"1\" class=\"dataframe\">\n",
       "  <thead>\n",
       "    <tr style=\"text-align: right;\">\n",
       "      <th></th>\n",
       "      <th>Claim Number</th>\n",
       "      <th>Date Received</th>\n",
       "      <th>Incident Date</th>\n",
       "      <th>Airport Code</th>\n",
       "      <th>Airport Name</th>\n",
       "      <th>Airline Name</th>\n",
       "      <th>Claim Type</th>\n",
       "      <th>Claim Site</th>\n",
       "      <th>Item</th>\n",
       "      <th>Claim Amount</th>\n",
       "      <th>Status</th>\n",
       "      <th>Close Amount</th>\n",
       "      <th>Disposition</th>\n",
       "    </tr>\n",
       "  </thead>\n",
       "  <tbody>\n",
       "    <tr>\n",
       "      <td>0</td>\n",
       "      <td>0909816M</td>\n",
       "      <td>7-Feb-02</td>\n",
       "      <td>1/6/2003 0:00</td>\n",
       "      <td>MIA</td>\n",
       "      <td>Miami International Airport</td>\n",
       "      <td>American Airlines</td>\n",
       "      <td>Property Damage</td>\n",
       "      <td>Checkpoint</td>\n",
       "      <td>Luggage (all types including footlockers)</td>\n",
       "      <td>$50.00</td>\n",
       "      <td>Approved</td>\n",
       "      <td>$50.00</td>\n",
       "      <td>Approve in Full</td>\n",
       "    </tr>\n",
       "    <tr>\n",
       "      <td>1</td>\n",
       "      <td>14268</td>\n",
       "      <td>20-Jun-02</td>\n",
       "      <td>6/16/2002 0:00</td>\n",
       "      <td>PHX</td>\n",
       "      <td>Phoenix Sky Harbor International</td>\n",
       "      <td>NaN</td>\n",
       "      <td>Property Damage</td>\n",
       "      <td>Checkpoint</td>\n",
       "      <td>Computer - Laptop</td>\n",
       "      <td>$2;270.09</td>\n",
       "      <td>Canceled</td>\n",
       "      <td>NaN</td>\n",
       "      <td>NaN</td>\n",
       "    </tr>\n",
       "    <tr>\n",
       "      <td>2</td>\n",
       "      <td>15242</td>\n",
       "      <td>12-Jul-02</td>\n",
       "      <td>5/31/2002 0:00</td>\n",
       "      <td>BWI</td>\n",
       "      <td>Baltimore/Washington Intl Thurgood Marshall</td>\n",
       "      <td>American Airlines</td>\n",
       "      <td>NaN</td>\n",
       "      <td>Other</td>\n",
       "      <td>Luggage (all types including footlockers)</td>\n",
       "      <td>$200.00</td>\n",
       "      <td>Denied</td>\n",
       "      <td>$0.00</td>\n",
       "      <td>Deny</td>\n",
       "    </tr>\n",
       "    <tr>\n",
       "      <td>3</td>\n",
       "      <td>16759</td>\n",
       "      <td>21-Aug-02</td>\n",
       "      <td>7/12/2002 0:00</td>\n",
       "      <td>BWI</td>\n",
       "      <td>Baltimore/Washington Intl Thurgood Marshall</td>\n",
       "      <td>Southwest Airlines</td>\n",
       "      <td>Passenger Property Loss</td>\n",
       "      <td>Checkpoint</td>\n",
       "      <td>Other</td>\n",
       "      <td>$21.44</td>\n",
       "      <td>Approved</td>\n",
       "      <td>$21.00</td>\n",
       "      <td>Approve in Full</td>\n",
       "    </tr>\n",
       "    <tr>\n",
       "      <td>4</td>\n",
       "      <td>17846</td>\n",
       "      <td>9-Sep-02</td>\n",
       "      <td>8/30/2002 0:00</td>\n",
       "      <td>BOS</td>\n",
       "      <td>Boston (Logan) International Airport</td>\n",
       "      <td>NaN</td>\n",
       "      <td>Property Damage</td>\n",
       "      <td>Checkpoint</td>\n",
       "      <td>Luggage (all types including footlockers)</td>\n",
       "      <td>$1;832.22</td>\n",
       "      <td>Canceled</td>\n",
       "      <td>$0.00</td>\n",
       "      <td>NaN</td>\n",
       "    </tr>\n",
       "  </tbody>\n",
       "</table>\n",
       "</div>"
      ],
      "text/plain": [
       "  Claim Number Date Received   Incident Date Airport Code  \\\n",
       "0     0909816M      7-Feb-02   1/6/2003 0:00          MIA   \n",
       "1        14268     20-Jun-02  6/16/2002 0:00          PHX   \n",
       "2        15242     12-Jul-02  5/31/2002 0:00          BWI   \n",
       "3        16759     21-Aug-02  7/12/2002 0:00          BWI   \n",
       "4        17846      9-Sep-02  8/30/2002 0:00          BOS   \n",
       "\n",
       "                                  Airport Name        Airline Name  \\\n",
       "0                  Miami International Airport   American Airlines   \n",
       "1             Phoenix Sky Harbor International                 NaN   \n",
       "2  Baltimore/Washington Intl Thurgood Marshall   American Airlines   \n",
       "3  Baltimore/Washington Intl Thurgood Marshall  Southwest Airlines   \n",
       "4         Boston (Logan) International Airport                 NaN   \n",
       "\n",
       "                Claim Type  Claim Site  \\\n",
       "0          Property Damage  Checkpoint   \n",
       "1          Property Damage  Checkpoint   \n",
       "2                      NaN       Other   \n",
       "3  Passenger Property Loss  Checkpoint   \n",
       "4          Property Damage  Checkpoint   \n",
       "\n",
       "                                        Item Claim Amount    Status  \\\n",
       "0  Luggage (all types including footlockers)      $50.00   Approved   \n",
       "1                          Computer - Laptop   $2;270.09   Canceled   \n",
       "2  Luggage (all types including footlockers)     $200.00     Denied   \n",
       "3                                      Other      $21.44   Approved   \n",
       "4  Luggage (all types including footlockers)   $1;832.22   Canceled   \n",
       "\n",
       "  Close Amount      Disposition  \n",
       "0      $50.00   Approve in Full  \n",
       "1          NaN              NaN  \n",
       "2       $0.00              Deny  \n",
       "3      $21.00   Approve in Full  \n",
       "4       $0.00               NaN  "
      ]
     },
     "execution_count": 3,
     "metadata": {},
     "output_type": "execute_result"
    }
   ],
   "source": [
    "data.head(5)"
   ]
  },
  {
   "cell_type": "code",
   "execution_count": 4,
   "metadata": {
    "ExecuteTime": {
     "end_time": "2019-10-12T18:25:33.889021Z",
     "start_time": "2019-10-12T18:25:33.878502Z"
    }
   },
   "outputs": [
    {
     "data": {
      "text/html": [
       "<div>\n",
       "<style scoped>\n",
       "    .dataframe tbody tr th:only-of-type {\n",
       "        vertical-align: middle;\n",
       "    }\n",
       "\n",
       "    .dataframe tbody tr th {\n",
       "        vertical-align: top;\n",
       "    }\n",
       "\n",
       "    .dataframe thead th {\n",
       "        text-align: right;\n",
       "    }\n",
       "</style>\n",
       "<table border=\"1\" class=\"dataframe\">\n",
       "  <thead>\n",
       "    <tr style=\"text-align: right;\">\n",
       "      <th></th>\n",
       "      <th>Claim Number</th>\n",
       "      <th>Date Received</th>\n",
       "      <th>Incident Date</th>\n",
       "      <th>Airport Code</th>\n",
       "      <th>Airport Name</th>\n",
       "      <th>Airline Name</th>\n",
       "      <th>Claim Type</th>\n",
       "      <th>Claim Site</th>\n",
       "      <th>Item</th>\n",
       "      <th>Claim Amount</th>\n",
       "      <th>Status</th>\n",
       "      <th>Close Amount</th>\n",
       "      <th>Disposition</th>\n",
       "    </tr>\n",
       "  </thead>\n",
       "  <tbody>\n",
       "    <tr>\n",
       "      <td>51061</td>\n",
       "      <td>2015110926685</td>\n",
       "      <td>22-Oct-15</td>\n",
       "      <td>19-Oct-15</td>\n",
       "      <td>-</td>\n",
       "      <td>-</td>\n",
       "      <td>-</td>\n",
       "      <td>Property Damage</td>\n",
       "      <td>Checked Baggage</td>\n",
       "      <td>Baggage/Cases/Purses</td>\n",
       "      <td>-</td>\n",
       "      <td>-</td>\n",
       "      <td>NaN</td>\n",
       "      <td>NaN</td>\n",
       "    </tr>\n",
       "    <tr>\n",
       "      <td>51062</td>\n",
       "      <td>2015110226479</td>\n",
       "      <td>2-Nov-15</td>\n",
       "      <td>2-Nov-15</td>\n",
       "      <td>-</td>\n",
       "      <td>-</td>\n",
       "      <td>-</td>\n",
       "      <td>Passenger Property Loss</td>\n",
       "      <td>Checkpoint</td>\n",
       "      <td>Books; Magazines &amp; Other</td>\n",
       "      <td>-</td>\n",
       "      <td>-</td>\n",
       "      <td>NaN</td>\n",
       "      <td>NaN</td>\n",
       "    </tr>\n",
       "    <tr>\n",
       "      <td>51063</td>\n",
       "      <td>2015120727336</td>\n",
       "      <td>16-Nov-15</td>\n",
       "      <td>14-Sep-15</td>\n",
       "      <td>-</td>\n",
       "      <td>-</td>\n",
       "      <td>American Airlines</td>\n",
       "      <td>Passenger Property Loss</td>\n",
       "      <td>Checked Baggage</td>\n",
       "      <td>Cosmetics &amp; Grooming</td>\n",
       "      <td>-</td>\n",
       "      <td>-</td>\n",
       "      <td>NaN</td>\n",
       "      <td>NaN</td>\n",
       "    </tr>\n",
       "    <tr>\n",
       "      <td>51064</td>\n",
       "      <td>2015120427297</td>\n",
       "      <td>20-Nov-15</td>\n",
       "      <td>16-Oct-15</td>\n",
       "      <td>-</td>\n",
       "      <td>-</td>\n",
       "      <td>-</td>\n",
       "      <td>Property Damage</td>\n",
       "      <td>Checked Baggage</td>\n",
       "      <td>Baggage/Cases/Purses; Books; Magazines &amp; Other...</td>\n",
       "      <td>-</td>\n",
       "      <td>-</td>\n",
       "      <td>NaN</td>\n",
       "      <td>NaN</td>\n",
       "    </tr>\n",
       "    <tr>\n",
       "      <td>51065</td>\n",
       "      <td>2016010428072</td>\n",
       "      <td>22-Dec-15</td>\n",
       "      <td>20-Dec-15</td>\n",
       "      <td>-</td>\n",
       "      <td>-</td>\n",
       "      <td>-</td>\n",
       "      <td>Passenger Property Loss</td>\n",
       "      <td>Checked Baggage</td>\n",
       "      <td>Clothing</td>\n",
       "      <td>-</td>\n",
       "      <td>-</td>\n",
       "      <td>NaN</td>\n",
       "      <td>NaN</td>\n",
       "    </tr>\n",
       "  </tbody>\n",
       "</table>\n",
       "</div>"
      ],
      "text/plain": [
       "        Claim Number Date Received Incident Date Airport Code Airport Name  \\\n",
       "51061  2015110926685     22-Oct-15     19-Oct-15            -            -   \n",
       "51062  2015110226479      2-Nov-15      2-Nov-15            -            -   \n",
       "51063  2015120727336     16-Nov-15     14-Sep-15            -            -   \n",
       "51064  2015120427297     20-Nov-15     16-Oct-15            -            -   \n",
       "51065  2016010428072     22-Dec-15     20-Dec-15            -            -   \n",
       "\n",
       "            Airline Name               Claim Type       Claim Site  \\\n",
       "51061                  -          Property Damage  Checked Baggage   \n",
       "51062                  -  Passenger Property Loss       Checkpoint   \n",
       "51063  American Airlines  Passenger Property Loss  Checked Baggage   \n",
       "51064                  -          Property Damage  Checked Baggage   \n",
       "51065                  -  Passenger Property Loss  Checked Baggage   \n",
       "\n",
       "                                                    Item Claim Amount Status  \\\n",
       "51061                               Baggage/Cases/Purses            -      -   \n",
       "51062                           Books; Magazines & Other            -      -   \n",
       "51063                               Cosmetics & Grooming            -      -   \n",
       "51064  Baggage/Cases/Purses; Books; Magazines & Other...            -      -   \n",
       "51065                                           Clothing            -      -   \n",
       "\n",
       "      Close Amount Disposition  \n",
       "51061          NaN         NaN  \n",
       "51062          NaN         NaN  \n",
       "51063          NaN         NaN  \n",
       "51064          NaN         NaN  \n",
       "51065          NaN         NaN  "
      ]
     },
     "execution_count": 4,
     "metadata": {},
     "output_type": "execute_result"
    }
   ],
   "source": [
    "data.tail()"
   ]
  },
  {
   "cell_type": "code",
   "execution_count": 5,
   "metadata": {
    "ExecuteTime": {
     "end_time": "2019-10-12T18:25:33.925952Z",
     "start_time": "2019-10-12T18:25:33.890000Z"
    }
   },
   "outputs": [
    {
     "name": "stdout",
     "output_type": "stream",
     "text": [
      "<class 'pandas.core.frame.DataFrame'>\n",
      "RangeIndex: 51066 entries, 0 to 51065\n",
      "Data columns (total 13 columns):\n",
      "Claim Number     51066 non-null object\n",
      "Date Received    50996 non-null object\n",
      "Incident Date    50496 non-null object\n",
      "Airport Code     49014 non-null object\n",
      "Airport Name     49014 non-null object\n",
      "Airline Name     42511 non-null object\n",
      "Claim Type       49106 non-null object\n",
      "Claim Site       50876 non-null object\n",
      "Item             50054 non-null object\n",
      "Claim Amount     50074 non-null object\n",
      "Status           51065 non-null object\n",
      "Close Amount     33786 non-null object\n",
      "Disposition      32846 non-null object\n",
      "dtypes: object(13)\n",
      "memory usage: 5.1+ MB\n"
     ]
    }
   ],
   "source": [
    "data.info()"
   ]
  },
  {
   "cell_type": "code",
   "execution_count": 6,
   "metadata": {
    "ExecuteTime": {
     "end_time": "2019-10-12T18:25:34.061017Z",
     "start_time": "2019-10-12T18:25:33.927946Z"
    }
   },
   "outputs": [
    {
     "data": {
      "text/html": [
       "<div>\n",
       "<style scoped>\n",
       "    .dataframe tbody tr th:only-of-type {\n",
       "        vertical-align: middle;\n",
       "    }\n",
       "\n",
       "    .dataframe tbody tr th {\n",
       "        vertical-align: top;\n",
       "    }\n",
       "\n",
       "    .dataframe thead th {\n",
       "        text-align: right;\n",
       "    }\n",
       "</style>\n",
       "<table border=\"1\" class=\"dataframe\">\n",
       "  <thead>\n",
       "    <tr style=\"text-align: right;\">\n",
       "      <th></th>\n",
       "      <th>Claim Number</th>\n",
       "      <th>Date Received</th>\n",
       "      <th>Incident Date</th>\n",
       "      <th>Airport Code</th>\n",
       "      <th>Airport Name</th>\n",
       "      <th>Airline Name</th>\n",
       "      <th>Claim Type</th>\n",
       "      <th>Claim Site</th>\n",
       "      <th>Item</th>\n",
       "      <th>Claim Amount</th>\n",
       "      <th>Status</th>\n",
       "      <th>Close Amount</th>\n",
       "      <th>Disposition</th>\n",
       "    </tr>\n",
       "  </thead>\n",
       "  <tbody>\n",
       "    <tr>\n",
       "      <td>count</td>\n",
       "      <td>51066</td>\n",
       "      <td>50996</td>\n",
       "      <td>50496</td>\n",
       "      <td>49014</td>\n",
       "      <td>49014</td>\n",
       "      <td>42511</td>\n",
       "      <td>49106</td>\n",
       "      <td>50876</td>\n",
       "      <td>50054</td>\n",
       "      <td>50074</td>\n",
       "      <td>51065</td>\n",
       "      <td>33786</td>\n",
       "      <td>32846</td>\n",
       "    </tr>\n",
       "    <tr>\n",
       "      <td>unique</td>\n",
       "      <td>51065</td>\n",
       "      <td>3522</td>\n",
       "      <td>10788</td>\n",
       "      <td>405</td>\n",
       "      <td>419</td>\n",
       "      <td>243</td>\n",
       "      <td>8</td>\n",
       "      <td>6</td>\n",
       "      <td>1854</td>\n",
       "      <td>13248</td>\n",
       "      <td>13</td>\n",
       "      <td>6009</td>\n",
       "      <td>3</td>\n",
       "    </tr>\n",
       "    <tr>\n",
       "      <td>top</td>\n",
       "      <td>2013121110011</td>\n",
       "      <td>27-May-04</td>\n",
       "      <td>12/22/2004 0:00</td>\n",
       "      <td>LAX</td>\n",
       "      <td>John F. Kennedy International</td>\n",
       "      <td>American Airlines</td>\n",
       "      <td>Passenger Property Loss</td>\n",
       "      <td>Checked Baggage</td>\n",
       "      <td>Other</td>\n",
       "      <td>$0.00</td>\n",
       "      <td>Denied</td>\n",
       "      <td>$0.00</td>\n",
       "      <td>Deny</td>\n",
       "    </tr>\n",
       "    <tr>\n",
       "      <td>freq</td>\n",
       "      <td>2</td>\n",
       "      <td>182</td>\n",
       "      <td>43</td>\n",
       "      <td>2379</td>\n",
       "      <td>2286</td>\n",
       "      <td>4377</td>\n",
       "      <td>29713</td>\n",
       "      <td>39937</td>\n",
       "      <td>9183</td>\n",
       "      <td>7065</td>\n",
       "      <td>17134</td>\n",
       "      <td>17907</td>\n",
       "      <td>17147</td>\n",
       "    </tr>\n",
       "  </tbody>\n",
       "</table>\n",
       "</div>"
      ],
      "text/plain": [
       "         Claim Number Date Received    Incident Date Airport Code  \\\n",
       "count           51066         50996            50496        49014   \n",
       "unique          51065          3522            10788          405   \n",
       "top     2013121110011     27-May-04  12/22/2004 0:00          LAX   \n",
       "freq                2           182               43         2379   \n",
       "\n",
       "                         Airport Name       Airline Name  \\\n",
       "count                           49014              42511   \n",
       "unique                            419                243   \n",
       "top     John F. Kennedy International  American Airlines   \n",
       "freq                             2286               4377   \n",
       "\n",
       "                     Claim Type       Claim Site   Item Claim Amount  Status  \\\n",
       "count                     49106            50876  50054        50074   51065   \n",
       "unique                        8                6   1854        13248      13   \n",
       "top     Passenger Property Loss  Checked Baggage  Other       $0.00   Denied   \n",
       "freq                      29713            39937   9183         7065   17134   \n",
       "\n",
       "       Close Amount Disposition  \n",
       "count         33786       32846  \n",
       "unique         6009           3  \n",
       "top          $0.00         Deny  \n",
       "freq          17907       17147  "
      ]
     },
     "execution_count": 6,
     "metadata": {},
     "output_type": "execute_result"
    }
   ],
   "source": [
    "data.describe()"
   ]
  },
  {
   "cell_type": "code",
   "execution_count": 7,
   "metadata": {
    "ExecuteTime": {
     "end_time": "2019-10-12T18:25:34.191977Z",
     "start_time": "2019-10-12T18:25:34.061969Z"
    }
   },
   "outputs": [
    {
     "data": {
      "text/html": [
       "<div>\n",
       "<style scoped>\n",
       "    .dataframe tbody tr th:only-of-type {\n",
       "        vertical-align: middle;\n",
       "    }\n",
       "\n",
       "    .dataframe tbody tr th {\n",
       "        vertical-align: top;\n",
       "    }\n",
       "\n",
       "    .dataframe thead th {\n",
       "        text-align: right;\n",
       "    }\n",
       "</style>\n",
       "<table border=\"1\" class=\"dataframe\">\n",
       "  <thead>\n",
       "    <tr style=\"text-align: right;\">\n",
       "      <th></th>\n",
       "      <th>dataFeatures</th>\n",
       "      <th>dataType</th>\n",
       "      <th>null</th>\n",
       "      <th>nullPct</th>\n",
       "      <th>unique</th>\n",
       "      <th>uniqueSample</th>\n",
       "    </tr>\n",
       "  </thead>\n",
       "  <tbody>\n",
       "    <tr>\n",
       "      <td>0</td>\n",
       "      <td>Claim Number</td>\n",
       "      <td>object</td>\n",
       "      <td>0</td>\n",
       "      <td>0.00</td>\n",
       "      <td>51065</td>\n",
       "      <td>[2008090249291, 2007112035227]</td>\n",
       "    </tr>\n",
       "    <tr>\n",
       "      <td>1</td>\n",
       "      <td>Date Received</td>\n",
       "      <td>object</td>\n",
       "      <td>70</td>\n",
       "      <td>0.14</td>\n",
       "      <td>3522</td>\n",
       "      <td>[6-Jun-04, 9-Jan-12]</td>\n",
       "    </tr>\n",
       "    <tr>\n",
       "      <td>2</td>\n",
       "      <td>Incident Date</td>\n",
       "      <td>object</td>\n",
       "      <td>570</td>\n",
       "      <td>1.12</td>\n",
       "      <td>10788</td>\n",
       "      <td>[4/22/2010 5:15, 8/30/2013 0:00]</td>\n",
       "    </tr>\n",
       "    <tr>\n",
       "      <td>3</td>\n",
       "      <td>Airport Code</td>\n",
       "      <td>object</td>\n",
       "      <td>2052</td>\n",
       "      <td>4.02</td>\n",
       "      <td>405</td>\n",
       "      <td>[LYH, INL]</td>\n",
       "    </tr>\n",
       "    <tr>\n",
       "      <td>4</td>\n",
       "      <td>Airport Name</td>\n",
       "      <td>object</td>\n",
       "      <td>2052</td>\n",
       "      <td>4.02</td>\n",
       "      <td>419</td>\n",
       "      <td>[Bishop International; Flint, San Francisco In...</td>\n",
       "    </tr>\n",
       "    <tr>\n",
       "      <td>5</td>\n",
       "      <td>Airline Name</td>\n",
       "      <td>object</td>\n",
       "      <td>8555</td>\n",
       "      <td>16.75</td>\n",
       "      <td>243</td>\n",
       "      <td>[JALways Airlines, Liat Airlines]</td>\n",
       "    </tr>\n",
       "    <tr>\n",
       "      <td>6</td>\n",
       "      <td>Claim Type</td>\n",
       "      <td>object</td>\n",
       "      <td>1960</td>\n",
       "      <td>3.84</td>\n",
       "      <td>8</td>\n",
       "      <td>[Employee Loss (MPCECA), Complaint]</td>\n",
       "    </tr>\n",
       "    <tr>\n",
       "      <td>7</td>\n",
       "      <td>Claim Site</td>\n",
       "      <td>object</td>\n",
       "      <td>190</td>\n",
       "      <td>0.37</td>\n",
       "      <td>6</td>\n",
       "      <td>[nan, Motor Vehicle]</td>\n",
       "    </tr>\n",
       "    <tr>\n",
       "      <td>8</td>\n",
       "      <td>Item</td>\n",
       "      <td>object</td>\n",
       "      <td>1012</td>\n",
       "      <td>1.98</td>\n",
       "      <td>1854</td>\n",
       "      <td>[Jewelry - Costume; Jewelry - Fine; Luggage (a...</td>\n",
       "    </tr>\n",
       "    <tr>\n",
       "      <td>9</td>\n",
       "      <td>Claim Amount</td>\n",
       "      <td>object</td>\n",
       "      <td>992</td>\n",
       "      <td>1.94</td>\n",
       "      <td>13248</td>\n",
       "      <td>[$704.14 , $363.29 ]</td>\n",
       "    </tr>\n",
       "    <tr>\n",
       "      <td>10</td>\n",
       "      <td>Status</td>\n",
       "      <td>object</td>\n",
       "      <td>1</td>\n",
       "      <td>0.00</td>\n",
       "      <td>13</td>\n",
       "      <td>[Approved, Settle]</td>\n",
       "    </tr>\n",
       "    <tr>\n",
       "      <td>11</td>\n",
       "      <td>Close Amount</td>\n",
       "      <td>object</td>\n",
       "      <td>17280</td>\n",
       "      <td>33.84</td>\n",
       "      <td>6009</td>\n",
       "      <td>[$405.00 , $20.76 ]</td>\n",
       "    </tr>\n",
       "    <tr>\n",
       "      <td>12</td>\n",
       "      <td>Disposition</td>\n",
       "      <td>object</td>\n",
       "      <td>18220</td>\n",
       "      <td>35.68</td>\n",
       "      <td>3</td>\n",
       "      <td>[Deny, Approve in Full]</td>\n",
       "    </tr>\n",
       "  </tbody>\n",
       "</table>\n",
       "</div>"
      ],
      "text/plain": [
       "     dataFeatures dataType   null  nullPct  unique  \\\n",
       "0    Claim Number   object      0     0.00   51065   \n",
       "1   Date Received   object     70     0.14    3522   \n",
       "2   Incident Date   object    570     1.12   10788   \n",
       "3    Airport Code   object   2052     4.02     405   \n",
       "4    Airport Name   object   2052     4.02     419   \n",
       "5    Airline Name   object   8555    16.75     243   \n",
       "6      Claim Type   object   1960     3.84       8   \n",
       "7      Claim Site   object    190     0.37       6   \n",
       "8            Item   object   1012     1.98    1854   \n",
       "9    Claim Amount   object    992     1.94   13248   \n",
       "10         Status   object      1     0.00      13   \n",
       "11   Close Amount   object  17280    33.84    6009   \n",
       "12    Disposition   object  18220    35.68       3   \n",
       "\n",
       "                                         uniqueSample  \n",
       "0                      [2008090249291, 2007112035227]  \n",
       "1                                [6-Jun-04, 9-Jan-12]  \n",
       "2                    [4/22/2010 5:15, 8/30/2013 0:00]  \n",
       "3                                          [LYH, INL]  \n",
       "4   [Bishop International; Flint, San Francisco In...  \n",
       "5                   [JALways Airlines, Liat Airlines]  \n",
       "6                 [Employee Loss (MPCECA), Complaint]  \n",
       "7                                [nan, Motor Vehicle]  \n",
       "8   [Jewelry - Costume; Jewelry - Fine; Luggage (a...  \n",
       "9                                [$704.14 , $363.29 ]  \n",
       "10                                 [Approved, Settle]  \n",
       "11                                [$405.00 , $20.76 ]  \n",
       "12                            [Deny, Approve in Full]  "
      ]
     },
     "execution_count": 7,
     "metadata": {},
     "output_type": "execute_result"
    }
   ],
   "source": [
    "#BikinNamaColumn\n",
    "col = ['dataFeatures','dataType','null','nullPct','unique','uniqueSample']\n",
    "\n",
    "#Bikin Isi Column\n",
    "all_cont = []\n",
    "for i in range(len(data.columns)):\n",
    "    content = []\n",
    "    content.append(data.columns[i])\n",
    "    content.append(data[data.columns[i]].dtypes)\n",
    "    content.append(data[data.columns[i]].isna().sum())\n",
    "    content.append(round((data[data.columns[i]].isna().sum()/len(data[data.columns[i]])*100),2))\n",
    "    content.append(data[data.columns[i]].nunique())\n",
    "    content.append(data[data.columns[i]].drop_duplicates().sample(2).values)\n",
    "    all_cont.append(content)\n",
    "    i+=1\n",
    "\n",
    "#Bikin Index\n",
    "ind =list(range(0,len(data.columns)))\n",
    "\n",
    "#BikinDataFrameBaru\n",
    "df = pd.DataFrame(all_cont,ind,col)\n",
    "df"
   ]
  },
  {
   "cell_type": "markdown",
   "metadata": {},
   "source": [
    "If you notice, there is '-' value that become a filler for an empty value. Replace all these '-' in every column into NaN object (np.nan) "
   ]
  },
  {
   "cell_type": "code",
   "execution_count": 8,
   "metadata": {
    "ExecuteTime": {
     "end_time": "2019-10-12T18:25:34.275744Z",
     "start_time": "2019-10-12T18:25:34.194215Z"
    },
    "scrolled": true
   },
   "outputs": [],
   "source": [
    "data.replace('-',np.nan,inplace=True)"
   ]
  },
  {
   "cell_type": "code",
   "execution_count": 9,
   "metadata": {},
   "outputs": [
    {
     "data": {
      "text/html": [
       "<div>\n",
       "<style scoped>\n",
       "    .dataframe tbody tr th:only-of-type {\n",
       "        vertical-align: middle;\n",
       "    }\n",
       "\n",
       "    .dataframe tbody tr th {\n",
       "        vertical-align: top;\n",
       "    }\n",
       "\n",
       "    .dataframe thead th {\n",
       "        text-align: right;\n",
       "    }\n",
       "</style>\n",
       "<table border=\"1\" class=\"dataframe\">\n",
       "  <thead>\n",
       "    <tr style=\"text-align: right;\">\n",
       "      <th></th>\n",
       "      <th>Claim Number</th>\n",
       "      <th>Date Received</th>\n",
       "      <th>Incident Date</th>\n",
       "      <th>Airport Code</th>\n",
       "      <th>Airport Name</th>\n",
       "      <th>Airline Name</th>\n",
       "      <th>Claim Type</th>\n",
       "      <th>Claim Site</th>\n",
       "      <th>Item</th>\n",
       "      <th>Claim Amount</th>\n",
       "      <th>Status</th>\n",
       "      <th>Close Amount</th>\n",
       "      <th>Disposition</th>\n",
       "    </tr>\n",
       "  </thead>\n",
       "  <tbody>\n",
       "    <tr>\n",
       "      <td>51063</td>\n",
       "      <td>2015120727336</td>\n",
       "      <td>16-Nov-15</td>\n",
       "      <td>14-Sep-15</td>\n",
       "      <td>NaN</td>\n",
       "      <td>NaN</td>\n",
       "      <td>American Airlines</td>\n",
       "      <td>Passenger Property Loss</td>\n",
       "      <td>Checked Baggage</td>\n",
       "      <td>Cosmetics &amp; Grooming</td>\n",
       "      <td>NaN</td>\n",
       "      <td>NaN</td>\n",
       "      <td>NaN</td>\n",
       "      <td>NaN</td>\n",
       "    </tr>\n",
       "    <tr>\n",
       "      <td>51064</td>\n",
       "      <td>2015120427297</td>\n",
       "      <td>20-Nov-15</td>\n",
       "      <td>16-Oct-15</td>\n",
       "      <td>NaN</td>\n",
       "      <td>NaN</td>\n",
       "      <td>NaN</td>\n",
       "      <td>Property Damage</td>\n",
       "      <td>Checked Baggage</td>\n",
       "      <td>Baggage/Cases/Purses; Books; Magazines &amp; Other...</td>\n",
       "      <td>NaN</td>\n",
       "      <td>NaN</td>\n",
       "      <td>NaN</td>\n",
       "      <td>NaN</td>\n",
       "    </tr>\n",
       "    <tr>\n",
       "      <td>51065</td>\n",
       "      <td>2016010428072</td>\n",
       "      <td>22-Dec-15</td>\n",
       "      <td>20-Dec-15</td>\n",
       "      <td>NaN</td>\n",
       "      <td>NaN</td>\n",
       "      <td>NaN</td>\n",
       "      <td>Passenger Property Loss</td>\n",
       "      <td>Checked Baggage</td>\n",
       "      <td>Clothing</td>\n",
       "      <td>NaN</td>\n",
       "      <td>NaN</td>\n",
       "      <td>NaN</td>\n",
       "      <td>NaN</td>\n",
       "    </tr>\n",
       "  </tbody>\n",
       "</table>\n",
       "</div>"
      ],
      "text/plain": [
       "        Claim Number Date Received Incident Date Airport Code Airport Name  \\\n",
       "51063  2015120727336     16-Nov-15     14-Sep-15          NaN          NaN   \n",
       "51064  2015120427297     20-Nov-15     16-Oct-15          NaN          NaN   \n",
       "51065  2016010428072     22-Dec-15     20-Dec-15          NaN          NaN   \n",
       "\n",
       "            Airline Name               Claim Type       Claim Site  \\\n",
       "51063  American Airlines  Passenger Property Loss  Checked Baggage   \n",
       "51064                NaN          Property Damage  Checked Baggage   \n",
       "51065                NaN  Passenger Property Loss  Checked Baggage   \n",
       "\n",
       "                                                    Item Claim Amount Status  \\\n",
       "51063                               Cosmetics & Grooming          NaN    NaN   \n",
       "51064  Baggage/Cases/Purses; Books; Magazines & Other...          NaN    NaN   \n",
       "51065                                           Clothing          NaN    NaN   \n",
       "\n",
       "      Close Amount Disposition  \n",
       "51063          NaN         NaN  \n",
       "51064          NaN         NaN  \n",
       "51065          NaN         NaN  "
      ]
     },
     "execution_count": 9,
     "metadata": {},
     "output_type": "execute_result"
    }
   ],
   "source": [
    "## CHECK IF REPLACE SUCCESSFULL ##\n",
    "data.tail(3)"
   ]
  },
  {
   "cell_type": "markdown",
   "metadata": {},
   "source": [
    "Try to convert the Date Received and Incident Date data type into Datetime object. For the Incident Date columns, if you directly try to convert the column into datetime object it would raise an error notice. In that case, try to show the dataframe with the Incident Date column contain all the error.  "
   ]
  },
  {
   "cell_type": "code",
   "execution_count": 10,
   "metadata": {
    "ExecuteTime": {
     "end_time": "2019-10-12T18:25:47.296919Z",
     "start_time": "2019-10-12T18:25:37.542785Z"
    }
   },
   "outputs": [],
   "source": [
    "# SHOWING ERROR TIMEDATE #\n",
    "def check_errordate(cols):\n",
    "    try:\n",
    "        pd.to_datetime(cols)\n",
    "    except:\n",
    "        return 'Error'    \n",
    "data['Error Check Inc Date'] = data['Incident Date'].apply(check_errordate)"
   ]
  },
  {
   "cell_type": "code",
   "execution_count": 11,
   "metadata": {},
   "outputs": [
    {
     "data": {
      "text/html": [
       "<div>\n",
       "<style scoped>\n",
       "    .dataframe tbody tr th:only-of-type {\n",
       "        vertical-align: middle;\n",
       "    }\n",
       "\n",
       "    .dataframe tbody tr th {\n",
       "        vertical-align: top;\n",
       "    }\n",
       "\n",
       "    .dataframe thead th {\n",
       "        text-align: right;\n",
       "    }\n",
       "</style>\n",
       "<table border=\"1\" class=\"dataframe\">\n",
       "  <thead>\n",
       "    <tr style=\"text-align: right;\">\n",
       "      <th></th>\n",
       "      <th>Claim Number</th>\n",
       "      <th>Date Received</th>\n",
       "      <th>Incident Date</th>\n",
       "      <th>Airport Code</th>\n",
       "      <th>Airport Name</th>\n",
       "      <th>Airline Name</th>\n",
       "      <th>Claim Type</th>\n",
       "      <th>Claim Site</th>\n",
       "      <th>Item</th>\n",
       "      <th>Claim Amount</th>\n",
       "      <th>Status</th>\n",
       "      <th>Close Amount</th>\n",
       "      <th>Disposition</th>\n",
       "      <th>Error Check Inc Date</th>\n",
       "    </tr>\n",
       "  </thead>\n",
       "  <tbody>\n",
       "    <tr>\n",
       "      <td>13729</td>\n",
       "      <td>2005021676300</td>\n",
       "      <td>24-Jan-05</td>\n",
       "      <td>17-MAY-0200 00:00</td>\n",
       "      <td>JFK</td>\n",
       "      <td>John F. Kennedy International</td>\n",
       "      <td>NaN</td>\n",
       "      <td>Passenger Property Loss</td>\n",
       "      <td>Checkpoint</td>\n",
       "      <td>Other</td>\n",
       "      <td>$15.00</td>\n",
       "      <td>Approved</td>\n",
       "      <td>$15.00</td>\n",
       "      <td>Approve in Full</td>\n",
       "      <td>Error</td>\n",
       "    </tr>\n",
       "    <tr>\n",
       "      <td>14323</td>\n",
       "      <td>2005031778682</td>\n",
       "      <td>23-Feb-05</td>\n",
       "      <td>17-FEB-0205 00:00</td>\n",
       "      <td>MSY</td>\n",
       "      <td>New Orleans International</td>\n",
       "      <td>UAL</td>\n",
       "      <td>Passenger Property Loss</td>\n",
       "      <td>Checked Baggage</td>\n",
       "      <td>Computer - Laptop</td>\n",
       "      <td>$2;463.00</td>\n",
       "      <td>Denied</td>\n",
       "      <td>NaN</td>\n",
       "      <td>Deny</td>\n",
       "      <td>Error</td>\n",
       "    </tr>\n",
       "    <tr>\n",
       "      <td>14856</td>\n",
       "      <td>2005033180821</td>\n",
       "      <td>23-Mar-05</td>\n",
       "      <td>07-MAR-0005 00:00</td>\n",
       "      <td>CVG</td>\n",
       "      <td>Cincinnati/Northern Kentucky International</td>\n",
       "      <td>Delta Air Lines</td>\n",
       "      <td>Passenger Property Loss</td>\n",
       "      <td>Checked Baggage</td>\n",
       "      <td>Cameras - Digital</td>\n",
       "      <td>$430.98</td>\n",
       "      <td>Approved</td>\n",
       "      <td>$430.98</td>\n",
       "      <td>Approve in Full</td>\n",
       "      <td>Error</td>\n",
       "    </tr>\n",
       "    <tr>\n",
       "      <td>14976</td>\n",
       "      <td>2005040181143</td>\n",
       "      <td>29-Mar-05</td>\n",
       "      <td>04-MAR-0205 00:00</td>\n",
       "      <td>MSP</td>\n",
       "      <td>Minneapolis/ St.Paul International Airport</td>\n",
       "      <td>Northwest Airlines</td>\n",
       "      <td>Passenger Property Loss</td>\n",
       "      <td>Checked Baggage</td>\n",
       "      <td>Jewelry - Fine</td>\n",
       "      <td>$151.00</td>\n",
       "      <td>Insufficient; one of the following items requi...</td>\n",
       "      <td>NaN</td>\n",
       "      <td>NaN</td>\n",
       "      <td>Error</td>\n",
       "    </tr>\n",
       "    <tr>\n",
       "      <td>14995</td>\n",
       "      <td>2005040581540</td>\n",
       "      <td>30-Mar-05</td>\n",
       "      <td>18-MAR-0200 00:00</td>\n",
       "      <td>MAF</td>\n",
       "      <td>Midland International Airport</td>\n",
       "      <td>Continental Express Inc</td>\n",
       "      <td>Passenger Property Loss</td>\n",
       "      <td>Checked Baggage</td>\n",
       "      <td>Locks</td>\n",
       "      <td>$10.60</td>\n",
       "      <td>Approved</td>\n",
       "      <td>$10.60</td>\n",
       "      <td>Approve in Full</td>\n",
       "      <td>Error</td>\n",
       "    </tr>\n",
       "    <tr>\n",
       "      <td>15278</td>\n",
       "      <td>2005041282328</td>\n",
       "      <td>12-Apr-05</td>\n",
       "      <td>12-MAR-0205 00:00</td>\n",
       "      <td>MSP</td>\n",
       "      <td>Minneapolis/ St.Paul International Airport</td>\n",
       "      <td>Northwest Airlines</td>\n",
       "      <td>Property Damage</td>\n",
       "      <td>Checked Baggage</td>\n",
       "      <td>Clothing - Shoes; belts; accessories; etc.</td>\n",
       "      <td>$710.00</td>\n",
       "      <td>Denied</td>\n",
       "      <td>$0.00</td>\n",
       "      <td>Deny</td>\n",
       "      <td>Error</td>\n",
       "    </tr>\n",
       "    <tr>\n",
       "      <td>15934</td>\n",
       "      <td>2005051985030</td>\n",
       "      <td>17-May-05</td>\n",
       "      <td>01-MAY-0205 00:00</td>\n",
       "      <td>NaN</td>\n",
       "      <td>NaN</td>\n",
       "      <td>NaN</td>\n",
       "      <td>Passenger Property Loss</td>\n",
       "      <td>Checked Baggage</td>\n",
       "      <td>Jewelry - Fine</td>\n",
       "      <td>$197.73</td>\n",
       "      <td>Insufficient; one of the following items requi...</td>\n",
       "      <td>NaN</td>\n",
       "      <td>NaN</td>\n",
       "      <td>Error</td>\n",
       "    </tr>\n",
       "    <tr>\n",
       "      <td>16813</td>\n",
       "      <td>2005071188622</td>\n",
       "      <td>8-Jul-05</td>\n",
       "      <td>01-JUL-0200 00:00</td>\n",
       "      <td>HDN</td>\n",
       "      <td>Yampa Valley Regional</td>\n",
       "      <td>NaN</td>\n",
       "      <td>Passenger Property Loss</td>\n",
       "      <td>Checked Baggage</td>\n",
       "      <td>Clothing - Shoes; belts; accessories; etc.</td>\n",
       "      <td>$300.00</td>\n",
       "      <td>Denied</td>\n",
       "      <td>$0.00</td>\n",
       "      <td>Deny</td>\n",
       "      <td>Error</td>\n",
       "    </tr>\n",
       "    <tr>\n",
       "      <td>17198</td>\n",
       "      <td>2005091492472</td>\n",
       "      <td>1-Aug-05</td>\n",
       "      <td>01-MAY-0205 00:00</td>\n",
       "      <td>IAH</td>\n",
       "      <td>Houston - George Bush Intercontinental Airport</td>\n",
       "      <td>UAL</td>\n",
       "      <td>Passenger Property Loss</td>\n",
       "      <td>Checked Baggage</td>\n",
       "      <td>Other</td>\n",
       "      <td>$2;000.72</td>\n",
       "      <td>Denied</td>\n",
       "      <td>$0.00</td>\n",
       "      <td>Deny</td>\n",
       "      <td>Error</td>\n",
       "    </tr>\n",
       "    <tr>\n",
       "      <td>19151</td>\n",
       "      <td>2005121397614</td>\n",
       "      <td>8-Dec-05</td>\n",
       "      <td>20-NOV-0205 00:00</td>\n",
       "      <td>LNK</td>\n",
       "      <td>Lincoln Municipal</td>\n",
       "      <td>Northwest Airlines</td>\n",
       "      <td>Passenger Property Loss</td>\n",
       "      <td>Checked Baggage</td>\n",
       "      <td>Locks</td>\n",
       "      <td>$15.00</td>\n",
       "      <td>Approved</td>\n",
       "      <td>$15.00</td>\n",
       "      <td>Approve in Full</td>\n",
       "      <td>Error</td>\n",
       "    </tr>\n",
       "    <tr>\n",
       "      <td>21528</td>\n",
       "      <td>2006060207211</td>\n",
       "      <td>30-May-06</td>\n",
       "      <td>26-MAY-0200 00:00</td>\n",
       "      <td>JFK</td>\n",
       "      <td>John F. Kennedy International</td>\n",
       "      <td>Air France</td>\n",
       "      <td>Passenger Property Loss</td>\n",
       "      <td>Checked Baggage</td>\n",
       "      <td>Cosmetics - Perfume; toilet articles; medicine...</td>\n",
       "      <td>$821.56</td>\n",
       "      <td>Settled</td>\n",
       "      <td>$261.72</td>\n",
       "      <td>Settle</td>\n",
       "      <td>Error</td>\n",
       "    </tr>\n",
       "    <tr>\n",
       "      <td>22161</td>\n",
       "      <td>2006072610104</td>\n",
       "      <td>14-Jul-06</td>\n",
       "      <td>25-OCT-0200 00:00</td>\n",
       "      <td>MEM</td>\n",
       "      <td>Memphis International Airport</td>\n",
       "      <td>Northwest Airlines</td>\n",
       "      <td>Passenger Property Loss</td>\n",
       "      <td>Checked Baggage</td>\n",
       "      <td>Cell Phones</td>\n",
       "      <td>$35.00</td>\n",
       "      <td>Denied</td>\n",
       "      <td>$0.00</td>\n",
       "      <td>Deny</td>\n",
       "      <td>Error</td>\n",
       "    </tr>\n",
       "    <tr>\n",
       "      <td>23232</td>\n",
       "      <td>2006101213887</td>\n",
       "      <td>11-Oct-06</td>\n",
       "      <td>27-SEP-0206 00:00</td>\n",
       "      <td>JFK</td>\n",
       "      <td>John F. Kennedy International</td>\n",
       "      <td>Continental Airlines</td>\n",
       "      <td>Passenger Property Loss</td>\n",
       "      <td>Checkpoint</td>\n",
       "      <td>Other</td>\n",
       "      <td>$25.49</td>\n",
       "      <td>Approved</td>\n",
       "      <td>$25.49</td>\n",
       "      <td>Approve in Full</td>\n",
       "      <td>Error</td>\n",
       "    </tr>\n",
       "    <tr>\n",
       "      <td>24355</td>\n",
       "      <td>2007010418246</td>\n",
       "      <td>3-Jan-07</td>\n",
       "      <td>03-NOV-0206 00:00</td>\n",
       "      <td>OMA</td>\n",
       "      <td>Eppley Airfield</td>\n",
       "      <td>Skywest Airlines Inc USA</td>\n",
       "      <td>Passenger Property Loss</td>\n",
       "      <td>Checked Baggage</td>\n",
       "      <td>Jewelry - Costume</td>\n",
       "      <td>$135.00</td>\n",
       "      <td>Denied</td>\n",
       "      <td>$0.00</td>\n",
       "      <td>Deny</td>\n",
       "      <td>Error</td>\n",
       "    </tr>\n",
       "    <tr>\n",
       "      <td>24525</td>\n",
       "      <td>2007011718892</td>\n",
       "      <td>10-Jan-07</td>\n",
       "      <td>12-AUG-0201 00:00</td>\n",
       "      <td>JFK</td>\n",
       "      <td>John F. Kennedy International</td>\n",
       "      <td>Jet Blue</td>\n",
       "      <td>Passenger Property Loss</td>\n",
       "      <td>Checked Baggage</td>\n",
       "      <td>Video Recordings (blank &amp; commercial)</td>\n",
       "      <td>$317.64</td>\n",
       "      <td>Settled</td>\n",
       "      <td>$158.82</td>\n",
       "      <td>Settle</td>\n",
       "      <td>Error</td>\n",
       "    </tr>\n",
       "    <tr>\n",
       "      <td>24768</td>\n",
       "      <td>2007013119947</td>\n",
       "      <td>26-Jan-07</td>\n",
       "      <td>19-DEC-0206 00:00</td>\n",
       "      <td>PHX</td>\n",
       "      <td>Phoenix Sky Harbor International</td>\n",
       "      <td>Northwest Airlines</td>\n",
       "      <td>Property Damage</td>\n",
       "      <td>Checked Baggage</td>\n",
       "      <td>Other</td>\n",
       "      <td>$90.00</td>\n",
       "      <td>Denied</td>\n",
       "      <td>$0.00</td>\n",
       "      <td>Deny</td>\n",
       "      <td>Error</td>\n",
       "    </tr>\n",
       "    <tr>\n",
       "      <td>24903</td>\n",
       "      <td>2007020620372</td>\n",
       "      <td>5-Feb-07</td>\n",
       "      <td>13-JAN-0207 00:00</td>\n",
       "      <td>JFK</td>\n",
       "      <td>John F. Kennedy International</td>\n",
       "      <td>Jet Blue</td>\n",
       "      <td>Passenger Property Loss</td>\n",
       "      <td>Checked Baggage</td>\n",
       "      <td>Computer - Laptop</td>\n",
       "      <td>$1;503.35</td>\n",
       "      <td>Settled</td>\n",
       "      <td>$208.47</td>\n",
       "      <td>Settle</td>\n",
       "      <td>Error</td>\n",
       "    </tr>\n",
       "    <tr>\n",
       "      <td>25249</td>\n",
       "      <td>2007031222075</td>\n",
       "      <td>6-Mar-07</td>\n",
       "      <td>18-FEB-0207 00:00</td>\n",
       "      <td>SEA</td>\n",
       "      <td>Seattle-Tacoma International</td>\n",
       "      <td>Delta Air Lines</td>\n",
       "      <td>Passenger Property Loss</td>\n",
       "      <td>Checked Baggage</td>\n",
       "      <td>Clothing - Shoes; belts; accessories; etc.; Other</td>\n",
       "      <td>$190.00</td>\n",
       "      <td>Denied</td>\n",
       "      <td>$0.00</td>\n",
       "      <td>Deny</td>\n",
       "      <td>Error</td>\n",
       "    </tr>\n",
       "    <tr>\n",
       "      <td>25705</td>\n",
       "      <td>2007041323942</td>\n",
       "      <td>10-Apr-07</td>\n",
       "      <td>07-APR-0200 00:00</td>\n",
       "      <td>IAD</td>\n",
       "      <td>Washington Dulles International</td>\n",
       "      <td>UAL</td>\n",
       "      <td>Passenger Property Loss</td>\n",
       "      <td>Checked Baggage</td>\n",
       "      <td>Cameras - Digital; Other</td>\n",
       "      <td>$470.06</td>\n",
       "      <td>Settled</td>\n",
       "      <td>$198.09</td>\n",
       "      <td>Settle</td>\n",
       "      <td>Error</td>\n",
       "    </tr>\n",
       "    <tr>\n",
       "      <td>25734</td>\n",
       "      <td>2007041323952</td>\n",
       "      <td>12-Apr-07</td>\n",
       "      <td>29-JAN-0200 00:00</td>\n",
       "      <td>SAN</td>\n",
       "      <td>San Diego International</td>\n",
       "      <td>Southwest Airlines</td>\n",
       "      <td>Passenger Property Loss</td>\n",
       "      <td>Checked Baggage</td>\n",
       "      <td>MP3 Players-(iPods; etc)</td>\n",
       "      <td>$250.00</td>\n",
       "      <td>Denied</td>\n",
       "      <td>$0.00</td>\n",
       "      <td>Deny</td>\n",
       "      <td>Error</td>\n",
       "    </tr>\n",
       "    <tr>\n",
       "      <td>26129</td>\n",
       "      <td>2007051825607</td>\n",
       "      <td>16-May-07</td>\n",
       "      <td>06-MAR-0207 00:00</td>\n",
       "      <td>BPT</td>\n",
       "      <td>Southeast Texas Regional</td>\n",
       "      <td>Continental Airlines</td>\n",
       "      <td>Passenger Property Loss</td>\n",
       "      <td>Checked Baggage</td>\n",
       "      <td>Cameras - Digital; Cameras - Non-electronic (C...</td>\n",
       "      <td>$1;400.25</td>\n",
       "      <td>Denied</td>\n",
       "      <td>$0.00</td>\n",
       "      <td>Deny</td>\n",
       "      <td>Error</td>\n",
       "    </tr>\n",
       "    <tr>\n",
       "      <td>26530</td>\n",
       "      <td>2007062127333</td>\n",
       "      <td>19-Jun-07</td>\n",
       "      <td>20-MAY-0207 00:00</td>\n",
       "      <td>FLL</td>\n",
       "      <td>Ft. Lauderdale-Hollywood International</td>\n",
       "      <td>Delta Air Lines</td>\n",
       "      <td>Passenger Property Loss</td>\n",
       "      <td>Checked Baggage</td>\n",
       "      <td>Cosmetics - Perfume; toilet articles; medicine...</td>\n",
       "      <td>$10.00</td>\n",
       "      <td>Approved</td>\n",
       "      <td>$10.00</td>\n",
       "      <td>Approve in Full</td>\n",
       "      <td>Error</td>\n",
       "    </tr>\n",
       "    <tr>\n",
       "      <td>27086</td>\n",
       "      <td>2007073129436</td>\n",
       "      <td>31-Jul-07</td>\n",
       "      <td>13-JUL-0207 00:00</td>\n",
       "      <td>IND</td>\n",
       "      <td>Indianapolis International</td>\n",
       "      <td>Northwest Airlines</td>\n",
       "      <td>Property Damage</td>\n",
       "      <td>Checked Baggage</td>\n",
       "      <td>Baskets - Wicker or plastic</td>\n",
       "      <td>$15.00</td>\n",
       "      <td>Denied</td>\n",
       "      <td>$0.00</td>\n",
       "      <td>Deny</td>\n",
       "      <td>Error</td>\n",
       "    </tr>\n",
       "    <tr>\n",
       "      <td>27481</td>\n",
       "      <td>2007083131244</td>\n",
       "      <td>28-Aug-07</td>\n",
       "      <td>09-JUL-0200 00:00</td>\n",
       "      <td>MSP</td>\n",
       "      <td>Minneapolis/ St.Paul International Airport</td>\n",
       "      <td>Northwest Airlines</td>\n",
       "      <td>Property Damage</td>\n",
       "      <td>Checked Baggage</td>\n",
       "      <td>Luggage (all types including footlockers)</td>\n",
       "      <td>$185.00</td>\n",
       "      <td>Settled</td>\n",
       "      <td>$50.00</td>\n",
       "      <td>Settle</td>\n",
       "      <td>Error</td>\n",
       "    </tr>\n",
       "    <tr>\n",
       "      <td>27628</td>\n",
       "      <td>2007091431890</td>\n",
       "      <td>10-Sep-07</td>\n",
       "      <td>02-MAR-0208 00:00</td>\n",
       "      <td>MDW</td>\n",
       "      <td>Midway International Airport</td>\n",
       "      <td>Southwest Airlines</td>\n",
       "      <td>Property Damage</td>\n",
       "      <td>Checked Baggage</td>\n",
       "      <td>Clothing - Shoes; belts; accessories; etc.; Pa...</td>\n",
       "      <td>$250.00</td>\n",
       "      <td>Denied</td>\n",
       "      <td>$0.00</td>\n",
       "      <td>Deny</td>\n",
       "      <td>Error</td>\n",
       "    </tr>\n",
       "    <tr>\n",
       "      <td>27819</td>\n",
       "      <td>2007092732635</td>\n",
       "      <td>24-Sep-07</td>\n",
       "      <td>17-SEP-0007 00:00</td>\n",
       "      <td>DTW</td>\n",
       "      <td>Detroit Metropolitan Wayne County Airport</td>\n",
       "      <td>Northwest Airlines</td>\n",
       "      <td>Passenger Property Loss</td>\n",
       "      <td>Checked Baggage</td>\n",
       "      <td>Currency</td>\n",
       "      <td>$420.00</td>\n",
       "      <td>Denied</td>\n",
       "      <td>$0.00</td>\n",
       "      <td>Deny</td>\n",
       "      <td>Error</td>\n",
       "    </tr>\n",
       "    <tr>\n",
       "      <td>27901</td>\n",
       "      <td>2007100533098</td>\n",
       "      <td>2-Oct-07</td>\n",
       "      <td>22-MAY-0200 00:00</td>\n",
       "      <td>RSW</td>\n",
       "      <td>Southwest Florida International</td>\n",
       "      <td>Delta Air Lines</td>\n",
       "      <td>Passenger Property Loss</td>\n",
       "      <td>Checked Baggage</td>\n",
       "      <td>Currency</td>\n",
       "      <td>$100.00</td>\n",
       "      <td>Denied</td>\n",
       "      <td>$0.00</td>\n",
       "      <td>Deny</td>\n",
       "      <td>Error</td>\n",
       "    </tr>\n",
       "    <tr>\n",
       "      <td>28031</td>\n",
       "      <td>2007101733560</td>\n",
       "      <td>12-Oct-07</td>\n",
       "      <td>28-SEP-0207 00:00</td>\n",
       "      <td>ATL</td>\n",
       "      <td>Hartsfield-Jackson Atlanta International Airport</td>\n",
       "      <td>Delta Air Lines</td>\n",
       "      <td>Passenger Property Loss</td>\n",
       "      <td>Checked Baggage</td>\n",
       "      <td>Cosmetics - Perfume; toilet articles; medicine...</td>\n",
       "      <td>$109.99</td>\n",
       "      <td>Denied</td>\n",
       "      <td>$0.00</td>\n",
       "      <td>Deny</td>\n",
       "      <td>Error</td>\n",
       "    </tr>\n",
       "    <tr>\n",
       "      <td>28037</td>\n",
       "      <td>2007101833587</td>\n",
       "      <td>12-Oct-07</td>\n",
       "      <td>04-SEP-0207 00:00</td>\n",
       "      <td>MIA</td>\n",
       "      <td>Miami International Airport</td>\n",
       "      <td>American Airlines</td>\n",
       "      <td>Passenger Property Loss</td>\n",
       "      <td>Checked Baggage</td>\n",
       "      <td>Other</td>\n",
       "      <td>$69.95</td>\n",
       "      <td>Denied</td>\n",
       "      <td>$0.00</td>\n",
       "      <td>Deny</td>\n",
       "      <td>Error</td>\n",
       "    </tr>\n",
       "    <tr>\n",
       "      <td>29065</td>\n",
       "      <td>2008011437819</td>\n",
       "      <td>7-Jan-08</td>\n",
       "      <td>30-NOV-0002 00:00</td>\n",
       "      <td>RAP</td>\n",
       "      <td>Rapid City Regional</td>\n",
       "      <td>Northwest Airlines</td>\n",
       "      <td>Passenger Property Loss</td>\n",
       "      <td>Checked Baggage</td>\n",
       "      <td>Clothing - Shoes; belts; accessories; etc.; Lu...</td>\n",
       "      <td>$200.00</td>\n",
       "      <td>Denied</td>\n",
       "      <td>$0.00</td>\n",
       "      <td>Deny</td>\n",
       "      <td>Error</td>\n",
       "    </tr>\n",
       "    <tr>\n",
       "      <td>29652</td>\n",
       "      <td>2008022840321</td>\n",
       "      <td>22-Feb-08</td>\n",
       "      <td>08-FEB-0208 00:00</td>\n",
       "      <td>AVL</td>\n",
       "      <td>Asheville Regional Airport</td>\n",
       "      <td>Delta Air Lines</td>\n",
       "      <td>Property Damage</td>\n",
       "      <td>Checked Baggage</td>\n",
       "      <td>Mirrors (including frames)</td>\n",
       "      <td>$21.93</td>\n",
       "      <td>Denied</td>\n",
       "      <td>$0.00</td>\n",
       "      <td>Deny</td>\n",
       "      <td>Error</td>\n",
       "    </tr>\n",
       "    <tr>\n",
       "      <td>31140</td>\n",
       "      <td>2008062646202</td>\n",
       "      <td>23-Jun-08</td>\n",
       "      <td>29-JAN-0208 00:00</td>\n",
       "      <td>MIA</td>\n",
       "      <td>Miami International Airport</td>\n",
       "      <td>American Airlines</td>\n",
       "      <td>Property Damage</td>\n",
       "      <td>Checked Baggage</td>\n",
       "      <td>Locks</td>\n",
       "      <td>$5.98</td>\n",
       "      <td>Denied</td>\n",
       "      <td>$0.00</td>\n",
       "      <td>Deny</td>\n",
       "      <td>Error</td>\n",
       "    </tr>\n",
       "    <tr>\n",
       "      <td>31570</td>\n",
       "      <td>2008080548050</td>\n",
       "      <td>31-Jul-08</td>\n",
       "      <td>30-JUL-0208 00:00</td>\n",
       "      <td>HOU</td>\n",
       "      <td>William P. Hobby</td>\n",
       "      <td>Continental Airlines</td>\n",
       "      <td>Passenger Property Loss</td>\n",
       "      <td>Checked Baggage</td>\n",
       "      <td>Locks</td>\n",
       "      <td>$16.00</td>\n",
       "      <td>Denied</td>\n",
       "      <td>$0.00</td>\n",
       "      <td>Deny</td>\n",
       "      <td>Error</td>\n",
       "    </tr>\n",
       "    <tr>\n",
       "      <td>31590</td>\n",
       "      <td>2008081148331</td>\n",
       "      <td>1-Aug-08</td>\n",
       "      <td>13-JUL-0200 00:00</td>\n",
       "      <td>ATL</td>\n",
       "      <td>Hartsfield-Jackson Atlanta International Airport</td>\n",
       "      <td>Delta Air Lines</td>\n",
       "      <td>Passenger Property Loss</td>\n",
       "      <td>Checked Baggage</td>\n",
       "      <td>Cosmetics - Perfume; toilet articles; medicine...</td>\n",
       "      <td>$40.00</td>\n",
       "      <td>Denied</td>\n",
       "      <td>$0.00</td>\n",
       "      <td>Deny</td>\n",
       "      <td>Error</td>\n",
       "    </tr>\n",
       "    <tr>\n",
       "      <td>31771</td>\n",
       "      <td>2008081948782</td>\n",
       "      <td>19-Aug-08</td>\n",
       "      <td>23-JUL-0208 00:00</td>\n",
       "      <td>FLL</td>\n",
       "      <td>Ft. Lauderdale-Hollywood International</td>\n",
       "      <td>Jet Blue</td>\n",
       "      <td>Passenger Property Loss</td>\n",
       "      <td>Checked Baggage</td>\n",
       "      <td>Computer - Laptop; GPS - Global Positioning Sy...</td>\n",
       "      <td>$3;379.00</td>\n",
       "      <td>Denied</td>\n",
       "      <td>$0.00</td>\n",
       "      <td>Deny</td>\n",
       "      <td>Error</td>\n",
       "    </tr>\n",
       "    <tr>\n",
       "      <td>33613</td>\n",
       "      <td>2009032056617</td>\n",
       "      <td>4-Mar-09</td>\n",
       "      <td>18-JAN-0200 00:00</td>\n",
       "      <td>FLL</td>\n",
       "      <td>Ft. Lauderdale-Hollywood International</td>\n",
       "      <td>American Airlines</td>\n",
       "      <td>Property Damage</td>\n",
       "      <td>Checkpoint</td>\n",
       "      <td>Eyeglasses - (including contact lenses)</td>\n",
       "      <td>$469.00</td>\n",
       "      <td>Denied</td>\n",
       "      <td>$0.00</td>\n",
       "      <td>Deny</td>\n",
       "      <td>Error</td>\n",
       "    </tr>\n",
       "  </tbody>\n",
       "</table>\n",
       "</div>"
      ],
      "text/plain": [
       "        Claim Number Date Received      Incident Date Airport Code  \\\n",
       "13729  2005021676300     24-Jan-05  17-MAY-0200 00:00          JFK   \n",
       "14323  2005031778682     23-Feb-05  17-FEB-0205 00:00          MSY   \n",
       "14856  2005033180821     23-Mar-05  07-MAR-0005 00:00          CVG   \n",
       "14976  2005040181143     29-Mar-05  04-MAR-0205 00:00          MSP   \n",
       "14995  2005040581540     30-Mar-05  18-MAR-0200 00:00          MAF   \n",
       "15278  2005041282328     12-Apr-05  12-MAR-0205 00:00          MSP   \n",
       "15934  2005051985030     17-May-05  01-MAY-0205 00:00          NaN   \n",
       "16813  2005071188622      8-Jul-05  01-JUL-0200 00:00          HDN   \n",
       "17198  2005091492472      1-Aug-05  01-MAY-0205 00:00          IAH   \n",
       "19151  2005121397614      8-Dec-05  20-NOV-0205 00:00          LNK   \n",
       "21528  2006060207211     30-May-06  26-MAY-0200 00:00          JFK   \n",
       "22161  2006072610104     14-Jul-06  25-OCT-0200 00:00          MEM   \n",
       "23232  2006101213887     11-Oct-06  27-SEP-0206 00:00          JFK   \n",
       "24355  2007010418246      3-Jan-07  03-NOV-0206 00:00          OMA   \n",
       "24525  2007011718892     10-Jan-07  12-AUG-0201 00:00          JFK   \n",
       "24768  2007013119947     26-Jan-07  19-DEC-0206 00:00          PHX   \n",
       "24903  2007020620372      5-Feb-07  13-JAN-0207 00:00          JFK   \n",
       "25249  2007031222075      6-Mar-07  18-FEB-0207 00:00          SEA   \n",
       "25705  2007041323942     10-Apr-07  07-APR-0200 00:00          IAD   \n",
       "25734  2007041323952     12-Apr-07  29-JAN-0200 00:00          SAN   \n",
       "26129  2007051825607     16-May-07  06-MAR-0207 00:00          BPT   \n",
       "26530  2007062127333     19-Jun-07  20-MAY-0207 00:00          FLL   \n",
       "27086  2007073129436     31-Jul-07  13-JUL-0207 00:00          IND   \n",
       "27481  2007083131244     28-Aug-07  09-JUL-0200 00:00          MSP   \n",
       "27628  2007091431890     10-Sep-07  02-MAR-0208 00:00          MDW   \n",
       "27819  2007092732635     24-Sep-07  17-SEP-0007 00:00          DTW   \n",
       "27901  2007100533098      2-Oct-07  22-MAY-0200 00:00          RSW   \n",
       "28031  2007101733560     12-Oct-07  28-SEP-0207 00:00          ATL   \n",
       "28037  2007101833587     12-Oct-07  04-SEP-0207 00:00          MIA   \n",
       "29065  2008011437819      7-Jan-08  30-NOV-0002 00:00          RAP   \n",
       "29652  2008022840321     22-Feb-08  08-FEB-0208 00:00          AVL   \n",
       "31140  2008062646202     23-Jun-08  29-JAN-0208 00:00          MIA   \n",
       "31570  2008080548050     31-Jul-08  30-JUL-0208 00:00          HOU   \n",
       "31590  2008081148331      1-Aug-08  13-JUL-0200 00:00          ATL   \n",
       "31771  2008081948782     19-Aug-08  23-JUL-0208 00:00          FLL   \n",
       "33613  2009032056617      4-Mar-09  18-JAN-0200 00:00          FLL   \n",
       "\n",
       "                                           Airport Name  \\\n",
       "13729                     John F. Kennedy International   \n",
       "14323                         New Orleans International   \n",
       "14856        Cincinnati/Northern Kentucky International   \n",
       "14976        Minneapolis/ St.Paul International Airport   \n",
       "14995                     Midland International Airport   \n",
       "15278        Minneapolis/ St.Paul International Airport   \n",
       "15934                                               NaN   \n",
       "16813                             Yampa Valley Regional   \n",
       "17198    Houston - George Bush Intercontinental Airport   \n",
       "19151                                 Lincoln Municipal   \n",
       "21528                     John F. Kennedy International   \n",
       "22161                     Memphis International Airport   \n",
       "23232                     John F. Kennedy International   \n",
       "24355                                   Eppley Airfield   \n",
       "24525                     John F. Kennedy International   \n",
       "24768                  Phoenix Sky Harbor International   \n",
       "24903                     John F. Kennedy International   \n",
       "25249                      Seattle-Tacoma International   \n",
       "25705                   Washington Dulles International   \n",
       "25734                           San Diego International   \n",
       "26129                          Southeast Texas Regional   \n",
       "26530            Ft. Lauderdale-Hollywood International   \n",
       "27086                        Indianapolis International   \n",
       "27481        Minneapolis/ St.Paul International Airport   \n",
       "27628                      Midway International Airport   \n",
       "27819         Detroit Metropolitan Wayne County Airport   \n",
       "27901                   Southwest Florida International   \n",
       "28031  Hartsfield-Jackson Atlanta International Airport   \n",
       "28037                       Miami International Airport   \n",
       "29065                               Rapid City Regional   \n",
       "29652                        Asheville Regional Airport   \n",
       "31140                       Miami International Airport   \n",
       "31570                                  William P. Hobby   \n",
       "31590  Hartsfield-Jackson Atlanta International Airport   \n",
       "31771            Ft. Lauderdale-Hollywood International   \n",
       "33613            Ft. Lauderdale-Hollywood International   \n",
       "\n",
       "                   Airline Name               Claim Type       Claim Site  \\\n",
       "13729                       NaN  Passenger Property Loss       Checkpoint   \n",
       "14323                       UAL  Passenger Property Loss  Checked Baggage   \n",
       "14856           Delta Air Lines  Passenger Property Loss  Checked Baggage   \n",
       "14976        Northwest Airlines  Passenger Property Loss  Checked Baggage   \n",
       "14995   Continental Express Inc  Passenger Property Loss  Checked Baggage   \n",
       "15278        Northwest Airlines          Property Damage  Checked Baggage   \n",
       "15934                       NaN  Passenger Property Loss  Checked Baggage   \n",
       "16813                       NaN  Passenger Property Loss  Checked Baggage   \n",
       "17198                       UAL  Passenger Property Loss  Checked Baggage   \n",
       "19151        Northwest Airlines  Passenger Property Loss  Checked Baggage   \n",
       "21528                Air France  Passenger Property Loss  Checked Baggage   \n",
       "22161        Northwest Airlines  Passenger Property Loss  Checked Baggage   \n",
       "23232      Continental Airlines  Passenger Property Loss       Checkpoint   \n",
       "24355  Skywest Airlines Inc USA  Passenger Property Loss  Checked Baggage   \n",
       "24525                  Jet Blue  Passenger Property Loss  Checked Baggage   \n",
       "24768        Northwest Airlines          Property Damage  Checked Baggage   \n",
       "24903                  Jet Blue  Passenger Property Loss  Checked Baggage   \n",
       "25249           Delta Air Lines  Passenger Property Loss  Checked Baggage   \n",
       "25705                       UAL  Passenger Property Loss  Checked Baggage   \n",
       "25734        Southwest Airlines  Passenger Property Loss  Checked Baggage   \n",
       "26129      Continental Airlines  Passenger Property Loss  Checked Baggage   \n",
       "26530           Delta Air Lines  Passenger Property Loss  Checked Baggage   \n",
       "27086        Northwest Airlines          Property Damage  Checked Baggage   \n",
       "27481        Northwest Airlines          Property Damage  Checked Baggage   \n",
       "27628        Southwest Airlines          Property Damage  Checked Baggage   \n",
       "27819        Northwest Airlines  Passenger Property Loss  Checked Baggage   \n",
       "27901           Delta Air Lines  Passenger Property Loss  Checked Baggage   \n",
       "28031           Delta Air Lines  Passenger Property Loss  Checked Baggage   \n",
       "28037         American Airlines  Passenger Property Loss  Checked Baggage   \n",
       "29065        Northwest Airlines  Passenger Property Loss  Checked Baggage   \n",
       "29652           Delta Air Lines          Property Damage  Checked Baggage   \n",
       "31140         American Airlines          Property Damage  Checked Baggage   \n",
       "31570      Continental Airlines  Passenger Property Loss  Checked Baggage   \n",
       "31590           Delta Air Lines  Passenger Property Loss  Checked Baggage   \n",
       "31771                  Jet Blue  Passenger Property Loss  Checked Baggage   \n",
       "33613         American Airlines          Property Damage       Checkpoint   \n",
       "\n",
       "                                                    Item Claim Amount  \\\n",
       "13729                                              Other      $15.00    \n",
       "14323                                  Computer - Laptop   $2;463.00    \n",
       "14856                                  Cameras - Digital     $430.98    \n",
       "14976                                     Jewelry - Fine     $151.00    \n",
       "14995                                              Locks      $10.60    \n",
       "15278         Clothing - Shoes; belts; accessories; etc.     $710.00    \n",
       "15934                                     Jewelry - Fine     $197.73    \n",
       "16813         Clothing - Shoes; belts; accessories; etc.     $300.00    \n",
       "17198                                              Other   $2;000.72    \n",
       "19151                                              Locks      $15.00    \n",
       "21528  Cosmetics - Perfume; toilet articles; medicine...     $821.56    \n",
       "22161                                        Cell Phones      $35.00    \n",
       "23232                                              Other      $25.49    \n",
       "24355                                  Jewelry - Costume     $135.00    \n",
       "24525              Video Recordings (blank & commercial)     $317.64    \n",
       "24768                                              Other      $90.00    \n",
       "24903                                  Computer - Laptop   $1;503.35    \n",
       "25249  Clothing - Shoes; belts; accessories; etc.; Other     $190.00    \n",
       "25705                           Cameras - Digital; Other     $470.06    \n",
       "25734                           MP3 Players-(iPods; etc)     $250.00    \n",
       "26129  Cameras - Digital; Cameras - Non-electronic (C...   $1;400.25    \n",
       "26530  Cosmetics - Perfume; toilet articles; medicine...      $10.00    \n",
       "27086                        Baskets - Wicker or plastic      $15.00    \n",
       "27481          Luggage (all types including footlockers)     $185.00    \n",
       "27628  Clothing - Shoes; belts; accessories; etc.; Pa...     $250.00    \n",
       "27819                                           Currency     $420.00    \n",
       "27901                                           Currency     $100.00    \n",
       "28031  Cosmetics - Perfume; toilet articles; medicine...     $109.99    \n",
       "28037                                              Other      $69.95    \n",
       "29065  Clothing - Shoes; belts; accessories; etc.; Lu...     $200.00    \n",
       "29652                         Mirrors (including frames)      $21.93    \n",
       "31140                                              Locks       $5.98    \n",
       "31570                                              Locks      $16.00    \n",
       "31590  Cosmetics - Perfume; toilet articles; medicine...      $40.00    \n",
       "31771  Computer - Laptop; GPS - Global Positioning Sy...   $3;379.00    \n",
       "33613            Eyeglasses - (including contact lenses)     $469.00    \n",
       "\n",
       "                                                  Status Close Amount  \\\n",
       "13729                                           Approved      $15.00    \n",
       "14323                                             Denied          NaN   \n",
       "14856                                           Approved     $430.98    \n",
       "14976  Insufficient; one of the following items requi...          NaN   \n",
       "14995                                           Approved      $10.60    \n",
       "15278                                             Denied       $0.00    \n",
       "15934  Insufficient; one of the following items requi...          NaN   \n",
       "16813                                             Denied       $0.00    \n",
       "17198                                             Denied       $0.00    \n",
       "19151                                           Approved      $15.00    \n",
       "21528                                            Settled     $261.72    \n",
       "22161                                             Denied       $0.00    \n",
       "23232                                           Approved      $25.49    \n",
       "24355                                             Denied       $0.00    \n",
       "24525                                            Settled     $158.82    \n",
       "24768                                             Denied       $0.00    \n",
       "24903                                            Settled     $208.47    \n",
       "25249                                             Denied       $0.00    \n",
       "25705                                            Settled     $198.09    \n",
       "25734                                             Denied       $0.00    \n",
       "26129                                             Denied       $0.00    \n",
       "26530                                           Approved      $10.00    \n",
       "27086                                             Denied       $0.00    \n",
       "27481                                            Settled      $50.00    \n",
       "27628                                             Denied       $0.00    \n",
       "27819                                             Denied       $0.00    \n",
       "27901                                             Denied       $0.00    \n",
       "28031                                             Denied       $0.00    \n",
       "28037                                             Denied       $0.00    \n",
       "29065                                             Denied       $0.00    \n",
       "29652                                             Denied       $0.00    \n",
       "31140                                             Denied       $0.00    \n",
       "31570                                             Denied       $0.00    \n",
       "31590                                             Denied       $0.00    \n",
       "31771                                             Denied       $0.00    \n",
       "33613                                             Denied       $0.00    \n",
       "\n",
       "           Disposition Error Check Inc Date  \n",
       "13729  Approve in Full                Error  \n",
       "14323             Deny                Error  \n",
       "14856  Approve in Full                Error  \n",
       "14976              NaN                Error  \n",
       "14995  Approve in Full                Error  \n",
       "15278             Deny                Error  \n",
       "15934              NaN                Error  \n",
       "16813             Deny                Error  \n",
       "17198             Deny                Error  \n",
       "19151  Approve in Full                Error  \n",
       "21528           Settle                Error  \n",
       "22161             Deny                Error  \n",
       "23232  Approve in Full                Error  \n",
       "24355             Deny                Error  \n",
       "24525           Settle                Error  \n",
       "24768             Deny                Error  \n",
       "24903           Settle                Error  \n",
       "25249             Deny                Error  \n",
       "25705           Settle                Error  \n",
       "25734             Deny                Error  \n",
       "26129             Deny                Error  \n",
       "26530  Approve in Full                Error  \n",
       "27086             Deny                Error  \n",
       "27481           Settle                Error  \n",
       "27628             Deny                Error  \n",
       "27819             Deny                Error  \n",
       "27901             Deny                Error  \n",
       "28031             Deny                Error  \n",
       "28037             Deny                Error  \n",
       "29065             Deny                Error  \n",
       "29652             Deny                Error  \n",
       "31140             Deny                Error  \n",
       "31570             Deny                Error  \n",
       "31590             Deny                Error  \n",
       "31771             Deny                Error  \n",
       "33613             Deny                Error  "
      ]
     },
     "execution_count": 11,
     "metadata": {},
     "output_type": "execute_result"
    }
   ],
   "source": [
    "# data['Error Check Inc Date'].unique()\n",
    "# --- SHOWING DATAFRAME CONTAIN ALL ERROR DATE ----\n",
    "data[data['Error Check Inc Date']=='Error']"
   ]
  },
  {
   "cell_type": "markdown",
   "metadata": {},
   "source": [
    "For the data in the Incident Date column that contain error, replace the year with the year that come from the Date Received column and replace the Incident Date data type into datetime object"
   ]
  },
  {
   "cell_type": "code",
   "execution_count": 12,
   "metadata": {
    "ExecuteTime": {
     "end_time": "2019-10-12T18:25:47.328436Z",
     "start_time": "2019-10-12T18:25:47.321949Z"
    },
    "scrolled": true
   },
   "outputs": [
    {
     "data": {
      "text/plain": [
       "array(['17-MAY-0200 00:00', '17-FEB-0205 00:00', '07-MAR-0005 00:00',\n",
       "       '04-MAR-0205 00:00', '18-MAR-0200 00:00', '12-MAR-0205 00:00',\n",
       "       '01-MAY-0205 00:00', '01-JUL-0200 00:00', '20-NOV-0205 00:00',\n",
       "       '26-MAY-0200 00:00', '25-OCT-0200 00:00', '27-SEP-0206 00:00',\n",
       "       '03-NOV-0206 00:00', '12-AUG-0201 00:00', '19-DEC-0206 00:00',\n",
       "       '13-JAN-0207 00:00', '18-FEB-0207 00:00', '07-APR-0200 00:00',\n",
       "       '29-JAN-0200 00:00', '06-MAR-0207 00:00', '20-MAY-0207 00:00',\n",
       "       '13-JUL-0207 00:00', '09-JUL-0200 00:00', '02-MAR-0208 00:00',\n",
       "       '17-SEP-0007 00:00', '22-MAY-0200 00:00', '28-SEP-0207 00:00',\n",
       "       '04-SEP-0207 00:00', '30-NOV-0002 00:00', '08-FEB-0208 00:00',\n",
       "       '29-JAN-0208 00:00', '30-JUL-0208 00:00', '13-JUL-0200 00:00',\n",
       "       '23-JUL-0208 00:00', '18-JAN-0200 00:00'], dtype=object)"
      ]
     },
     "execution_count": 12,
     "metadata": {},
     "output_type": "execute_result"
    }
   ],
   "source": [
    "Error_Date= data[data['Error Check Inc Date']=='Error']\n",
    "Error_Date['Incident Date'].unique()"
   ]
  },
  {
   "cell_type": "code",
   "execution_count": 13,
   "metadata": {},
   "outputs": [
    {
     "data": {
      "text/plain": [
       "70"
      ]
     },
     "execution_count": 13,
     "metadata": {},
     "output_type": "execute_result"
    }
   ],
   "source": [
    "data['Date Received'].isna().sum()"
   ]
  },
  {
   "cell_type": "code",
   "execution_count": 14,
   "metadata": {
    "scrolled": true
   },
   "outputs": [],
   "source": [
    "def getyear(cols):\n",
    "    if pd.isna(cols):\n",
    "        return cols\n",
    "    else:\n",
    "        return '20'+ cols[-2] + cols[-1]\n",
    "year_received = data['Date Received'].apply(getyear)\n",
    "data['YR'] = year_received"
   ]
  },
  {
   "cell_type": "code",
   "execution_count": 15,
   "metadata": {
    "scrolled": true
   },
   "outputs": [],
   "source": [
    "data['Incident Date'] = data['Incident Date'].apply(lambda x: str(x))"
   ]
  },
  {
   "cell_type": "code",
   "execution_count": 16,
   "metadata": {},
   "outputs": [],
   "source": [
    "coba = []\n",
    "for i in range(len(data)):\n",
    "    if data['Error Check Inc Date'][i] == 'Error':\n",
    "#         print (data['Incident Date'][i])\n",
    "        x = data['Incident Date'][i].split(' ')\n",
    "        y = x[0].split('-')\n",
    "        z = list([y[0],y[1],data['YR'][i]])\n",
    "        coba.append('-'.join(z))\n",
    "    else:\n",
    "#     else data['Error Check Inc Date'][i] == 'None':\n",
    "        v = data['Incident Date'][i]\n",
    "        coba.append(v)\n",
    "    i += 1"
   ]
  },
  {
   "cell_type": "code",
   "execution_count": 17,
   "metadata": {},
   "outputs": [],
   "source": [
    "data['Incident Date'] = coba"
   ]
  },
  {
   "cell_type": "code",
   "execution_count": 18,
   "metadata": {},
   "outputs": [],
   "source": [
    "# ConvertingDate #\n",
    "data['Date Received'] = pd.to_datetime(data['Date Received'])\n",
    "data['Incident Date'] = pd.to_datetime(data['Incident Date'])"
   ]
  },
  {
   "cell_type": "markdown",
   "metadata": {},
   "source": [
    "Check the data info and the dataframe that previously contain the error in their data to see if the data have been properly corrected."
   ]
  },
  {
   "cell_type": "code",
   "execution_count": 19,
   "metadata": {
    "ExecuteTime": {
     "end_time": "2019-10-12T18:25:58.953031Z",
     "start_time": "2019-10-12T18:25:58.911988Z"
    }
   },
   "outputs": [
    {
     "name": "stdout",
     "output_type": "stream",
     "text": [
      "<class 'pandas.core.frame.DataFrame'>\n",
      "RangeIndex: 51066 entries, 0 to 51065\n",
      "Data columns (total 15 columns):\n",
      "Claim Number            51066 non-null object\n",
      "Date Received           50996 non-null datetime64[ns]\n",
      "Incident Date           50496 non-null datetime64[ns]\n",
      "Airport Code            48915 non-null object\n",
      "Airport Name            48915 non-null object\n",
      "Airline Name            41470 non-null object\n",
      "Claim Type              49035 non-null object\n",
      "Claim Site              50817 non-null object\n",
      "Item                    48918 non-null object\n",
      "Claim Amount            46886 non-null object\n",
      "Status                  47877 non-null object\n",
      "Close Amount            33786 non-null object\n",
      "Disposition             32846 non-null object\n",
      "Error Check Inc Date    36 non-null object\n",
      "YR                      50996 non-null object\n",
      "dtypes: datetime64[ns](2), object(13)\n",
      "memory usage: 5.8+ MB\n"
     ]
    }
   ],
   "source": [
    "data.info()"
   ]
  },
  {
   "cell_type": "code",
   "execution_count": 20,
   "metadata": {
    "ExecuteTime": {
     "end_time": "2019-10-12T18:25:58.979517Z",
     "start_time": "2019-10-12T18:25:58.954015Z"
    }
   },
   "outputs": [
    {
     "data": {
      "text/html": [
       "<div>\n",
       "<style scoped>\n",
       "    .dataframe tbody tr th:only-of-type {\n",
       "        vertical-align: middle;\n",
       "    }\n",
       "\n",
       "    .dataframe tbody tr th {\n",
       "        vertical-align: top;\n",
       "    }\n",
       "\n",
       "    .dataframe thead th {\n",
       "        text-align: right;\n",
       "    }\n",
       "</style>\n",
       "<table border=\"1\" class=\"dataframe\">\n",
       "  <thead>\n",
       "    <tr style=\"text-align: right;\">\n",
       "      <th></th>\n",
       "      <th>Claim Number</th>\n",
       "      <th>Date Received</th>\n",
       "      <th>Incident Date</th>\n",
       "      <th>Airport Code</th>\n",
       "      <th>Airport Name</th>\n",
       "      <th>Airline Name</th>\n",
       "      <th>Claim Type</th>\n",
       "      <th>Claim Site</th>\n",
       "      <th>Item</th>\n",
       "      <th>Claim Amount</th>\n",
       "      <th>Status</th>\n",
       "      <th>Close Amount</th>\n",
       "      <th>Disposition</th>\n",
       "    </tr>\n",
       "  </thead>\n",
       "  <tbody>\n",
       "    <tr>\n",
       "      <td>0</td>\n",
       "      <td>0909816M</td>\n",
       "      <td>2002-02-07</td>\n",
       "      <td>2003-01-06</td>\n",
       "      <td>MIA</td>\n",
       "      <td>Miami International Airport</td>\n",
       "      <td>American Airlines</td>\n",
       "      <td>Property Damage</td>\n",
       "      <td>Checkpoint</td>\n",
       "      <td>Luggage (all types including footlockers)</td>\n",
       "      <td>$50.00</td>\n",
       "      <td>Approved</td>\n",
       "      <td>$50.00</td>\n",
       "      <td>Approve in Full</td>\n",
       "    </tr>\n",
       "    <tr>\n",
       "      <td>1</td>\n",
       "      <td>14268</td>\n",
       "      <td>2002-06-20</td>\n",
       "      <td>2002-06-16</td>\n",
       "      <td>PHX</td>\n",
       "      <td>Phoenix Sky Harbor International</td>\n",
       "      <td>NaN</td>\n",
       "      <td>Property Damage</td>\n",
       "      <td>Checkpoint</td>\n",
       "      <td>Computer - Laptop</td>\n",
       "      <td>$2;270.09</td>\n",
       "      <td>Canceled</td>\n",
       "      <td>NaN</td>\n",
       "      <td>NaN</td>\n",
       "    </tr>\n",
       "    <tr>\n",
       "      <td>2</td>\n",
       "      <td>15242</td>\n",
       "      <td>2002-07-12</td>\n",
       "      <td>2002-05-31</td>\n",
       "      <td>BWI</td>\n",
       "      <td>Baltimore/Washington Intl Thurgood Marshall</td>\n",
       "      <td>American Airlines</td>\n",
       "      <td>NaN</td>\n",
       "      <td>Other</td>\n",
       "      <td>Luggage (all types including footlockers)</td>\n",
       "      <td>$200.00</td>\n",
       "      <td>Denied</td>\n",
       "      <td>$0.00</td>\n",
       "      <td>Deny</td>\n",
       "    </tr>\n",
       "  </tbody>\n",
       "</table>\n",
       "</div>"
      ],
      "text/plain": [
       "  Claim Number Date Received Incident Date Airport Code  \\\n",
       "0     0909816M    2002-02-07    2003-01-06          MIA   \n",
       "1        14268    2002-06-20    2002-06-16          PHX   \n",
       "2        15242    2002-07-12    2002-05-31          BWI   \n",
       "\n",
       "                                  Airport Name       Airline Name  \\\n",
       "0                  Miami International Airport  American Airlines   \n",
       "1             Phoenix Sky Harbor International                NaN   \n",
       "2  Baltimore/Washington Intl Thurgood Marshall  American Airlines   \n",
       "\n",
       "        Claim Type  Claim Site                                       Item  \\\n",
       "0  Property Damage  Checkpoint  Luggage (all types including footlockers)   \n",
       "1  Property Damage  Checkpoint                          Computer - Laptop   \n",
       "2              NaN       Other  Luggage (all types including footlockers)   \n",
       "\n",
       "  Claim Amount    Status Close Amount      Disposition  \n",
       "0      $50.00   Approved      $50.00   Approve in Full  \n",
       "1   $2;270.09   Canceled          NaN              NaN  \n",
       "2     $200.00     Denied       $0.00              Deny  "
      ]
     },
     "execution_count": 20,
     "metadata": {},
     "output_type": "execute_result"
    }
   ],
   "source": [
    "data = data.drop(columns=['YR','Error Check Inc Date'])\n",
    "data.head(3)"
   ]
  },
  {
   "cell_type": "markdown",
   "metadata": {},
   "source": [
    "Create a new feature of the day differences between claim received and the day of the incident called Day Differences, which contain the days that come from the Date Received column substracted by the Incident Date column (Date Received - Incident Date). We have this feature to see the time differences between when the claim made with the incident that happen."
   ]
  },
  {
   "cell_type": "code",
   "execution_count": 21,
   "metadata": {
    "ExecuteTime": {
     "end_time": "2019-10-12T18:26:01.106092Z",
     "start_time": "2019-10-12T18:25:58.980946Z"
    }
   },
   "outputs": [
    {
     "data": {
      "text/html": [
       "<div>\n",
       "<style scoped>\n",
       "    .dataframe tbody tr th:only-of-type {\n",
       "        vertical-align: middle;\n",
       "    }\n",
       "\n",
       "    .dataframe tbody tr th {\n",
       "        vertical-align: top;\n",
       "    }\n",
       "\n",
       "    .dataframe thead th {\n",
       "        text-align: right;\n",
       "    }\n",
       "</style>\n",
       "<table border=\"1\" class=\"dataframe\">\n",
       "  <thead>\n",
       "    <tr style=\"text-align: right;\">\n",
       "      <th></th>\n",
       "      <th>Claim Number</th>\n",
       "      <th>Date Received</th>\n",
       "      <th>Incident Date</th>\n",
       "      <th>Airport Code</th>\n",
       "      <th>Airport Name</th>\n",
       "      <th>Airline Name</th>\n",
       "      <th>Claim Type</th>\n",
       "      <th>Claim Site</th>\n",
       "      <th>Item</th>\n",
       "      <th>Claim Amount</th>\n",
       "      <th>Status</th>\n",
       "      <th>Close Amount</th>\n",
       "      <th>Disposition</th>\n",
       "      <th>Day Differences</th>\n",
       "    </tr>\n",
       "  </thead>\n",
       "  <tbody>\n",
       "    <tr>\n",
       "      <td>0</td>\n",
       "      <td>0909816M</td>\n",
       "      <td>2002-02-07</td>\n",
       "      <td>2003-01-06</td>\n",
       "      <td>MIA</td>\n",
       "      <td>Miami International Airport</td>\n",
       "      <td>American Airlines</td>\n",
       "      <td>Property Damage</td>\n",
       "      <td>Checkpoint</td>\n",
       "      <td>Luggage (all types including footlockers)</td>\n",
       "      <td>$50.00</td>\n",
       "      <td>Approved</td>\n",
       "      <td>$50.00</td>\n",
       "      <td>Approve in Full</td>\n",
       "      <td>-333.0</td>\n",
       "    </tr>\n",
       "    <tr>\n",
       "      <td>1</td>\n",
       "      <td>14268</td>\n",
       "      <td>2002-06-20</td>\n",
       "      <td>2002-06-16</td>\n",
       "      <td>PHX</td>\n",
       "      <td>Phoenix Sky Harbor International</td>\n",
       "      <td>NaN</td>\n",
       "      <td>Property Damage</td>\n",
       "      <td>Checkpoint</td>\n",
       "      <td>Computer - Laptop</td>\n",
       "      <td>$2;270.09</td>\n",
       "      <td>Canceled</td>\n",
       "      <td>NaN</td>\n",
       "      <td>NaN</td>\n",
       "      <td>4.0</td>\n",
       "    </tr>\n",
       "    <tr>\n",
       "      <td>2</td>\n",
       "      <td>15242</td>\n",
       "      <td>2002-07-12</td>\n",
       "      <td>2002-05-31</td>\n",
       "      <td>BWI</td>\n",
       "      <td>Baltimore/Washington Intl Thurgood Marshall</td>\n",
       "      <td>American Airlines</td>\n",
       "      <td>NaN</td>\n",
       "      <td>Other</td>\n",
       "      <td>Luggage (all types including footlockers)</td>\n",
       "      <td>$200.00</td>\n",
       "      <td>Denied</td>\n",
       "      <td>$0.00</td>\n",
       "      <td>Deny</td>\n",
       "      <td>42.0</td>\n",
       "    </tr>\n",
       "  </tbody>\n",
       "</table>\n",
       "</div>"
      ],
      "text/plain": [
       "  Claim Number Date Received Incident Date Airport Code  \\\n",
       "0     0909816M    2002-02-07    2003-01-06          MIA   \n",
       "1        14268    2002-06-20    2002-06-16          PHX   \n",
       "2        15242    2002-07-12    2002-05-31          BWI   \n",
       "\n",
       "                                  Airport Name       Airline Name  \\\n",
       "0                  Miami International Airport  American Airlines   \n",
       "1             Phoenix Sky Harbor International                NaN   \n",
       "2  Baltimore/Washington Intl Thurgood Marshall  American Airlines   \n",
       "\n",
       "        Claim Type  Claim Site                                       Item  \\\n",
       "0  Property Damage  Checkpoint  Luggage (all types including footlockers)   \n",
       "1  Property Damage  Checkpoint                          Computer - Laptop   \n",
       "2              NaN       Other  Luggage (all types including footlockers)   \n",
       "\n",
       "  Claim Amount    Status Close Amount      Disposition  Day Differences  \n",
       "0      $50.00   Approved      $50.00   Approve in Full           -333.0  \n",
       "1   $2;270.09   Canceled          NaN              NaN              4.0  \n",
       "2     $200.00     Denied       $0.00              Deny             42.0  "
      ]
     },
     "execution_count": 21,
     "metadata": {},
     "output_type": "execute_result"
    }
   ],
   "source": [
    "delta_day = []\n",
    "for i,j in zip(data['Date Received'],data['Incident Date']):\n",
    "    delta_day.append(i-j)\n",
    "data['Day Differences']=pd.Series(delta_day)\n",
    "data['Day Differences']=data['Day Differences'].apply(lambda x: x.days)\n",
    "data.head(3)"
   ]
  },
  {
   "cell_type": "markdown",
   "metadata": {},
   "source": [
    "Lets try to visualize the distribution of the Day Differences with all the NaN just to be dropped first"
   ]
  },
  {
   "cell_type": "code",
   "execution_count": 22,
   "metadata": {
    "ExecuteTime": {
     "end_time": "2019-10-12T18:26:01.529064Z",
     "start_time": "2019-10-12T18:26:01.107006Z"
    }
   },
   "outputs": [],
   "source": [
    "import seaborn as sns"
   ]
  },
  {
   "cell_type": "code",
   "execution_count": 23,
   "metadata": {},
   "outputs": [
    {
     "data": {
      "text/plain": [
       "Text(0.5, 1.0, 'Day Differences Distribution')"
      ]
     },
     "execution_count": 23,
     "metadata": {},
     "output_type": "execute_result"
    },
    {
     "data": {
      "image/png": "[encoded data removed]",
      "text/plain": [
       "<Figure size 432x360 with 1 Axes>"
      ]
     },
     "metadata": {
      "needs_background": "light"
     },
     "output_type": "display_data"
    }
   ],
   "source": [
    "data_dd = pd.DataFrame(data['Day Differences'].dropna())\n",
    "plt.figure(figsize=(6,5))\n",
    "sns.set_style(\"darkgrid\")\n",
    "sns.distplot(data_dd,hist=None)\n",
    "plt.title('Day Differences Distribution')"
   ]
  },
  {
   "cell_type": "markdown",
   "metadata": {},
   "source": [
    "If we seen it from the plot, it seems there is days that less than 0 and even over than 1000. Lets try to visualize them both"
   ]
  },
  {
   "cell_type": "code",
   "execution_count": 24,
   "metadata": {
    "ExecuteTime": {
     "end_time": "2019-10-12T18:26:01.850621Z",
     "start_time": "2019-10-12T18:26:01.530109Z"
    }
   },
   "outputs": [
    {
     "name": "stderr",
     "output_type": "stream",
     "text": [
      "C:\\Users\\Idame\\Anaconda3\\lib\\site-packages\\statsmodels\\nonparametric\\kde.py:447: RuntimeWarning: invalid value encountered in greater\n",
      "  X = X[np.logical_and(X > clip[0], X < clip[1])] # won't work for two columns.\n",
      "C:\\Users\\Idame\\Anaconda3\\lib\\site-packages\\statsmodels\\nonparametric\\kde.py:447: RuntimeWarning: invalid value encountered in less\n",
      "  X = X[np.logical_and(X > clip[0], X < clip[1])] # won't work for two columns.\n"
     ]
    },
    {
     "data": {
      "text/plain": [
       "Text(0.5, 1.0, 'Day Differences Distribution Less than 0')"
      ]
     },
     "execution_count": 24,
     "metadata": {},
     "output_type": "execute_result"
    },
    {
     "data": {
      "image/png": "[encoded data removed]",
      "text/plain": [
       "<Figure size 432x360 with 1 Axes>"
      ]
     },
     "metadata": {},
     "output_type": "display_data"
    }
   ],
   "source": [
    " ## LESS THAN 0 ##\n",
    "plt.figure(figsize=(6,5))\n",
    "sns.set_style(\"darkgrid\")\n",
    "sns.distplot(data_dd[data_dd < 0],hist=None)\n",
    "plt.title('Day Differences Distribution Less than 0')"
   ]
  },
  {
   "cell_type": "code",
   "execution_count": 25,
   "metadata": {
    "ExecuteTime": {
     "end_time": "2019-10-12T18:26:02.222300Z",
     "start_time": "2019-10-12T18:26:01.851620Z"
    }
   },
   "outputs": [
    {
     "data": {
      "text/plain": [
       "Text(0.5, 1.0, 'Day Differences Distribution Over than 1000')"
      ]
     },
     "execution_count": 25,
     "metadata": {},
     "output_type": "execute_result"
    },
    {
     "data": {
      "image/png": "[encoded data removed]",
      "text/plain": [
       "<Figure size 432x360 with 1 Axes>"
      ]
     },
     "metadata": {},
     "output_type": "display_data"
    }
   ],
   "source": [
    " ## OVER THAN 1000 ##\n",
    "plt.figure(figsize=(6,5))\n",
    "sns.set_style(\"darkgrid\")\n",
    "sns.distplot(data_dd[data_dd > 1000],hist=None)\n",
    "plt.title('Day Differences Distribution Over than 1000')"
   ]
  },
  {
   "cell_type": "markdown",
   "metadata": {},
   "source": [
    "## Question\n",
    "\n",
    "Why do you think there is day that way more than thousand days differences, and why some day differences are less than 0? (claim was made before the incident is like someone predicting a future after all)."
   ]
  },
  {
   "cell_type": "code",
   "execution_count": 26,
   "metadata": {},
   "outputs": [],
   "source": [
    "delta1000 = data[data['Day Differences']>1000]\n",
    "delta0 = data[data['Day Differences']<0]"
   ]
  },
  {
   "cell_type": "markdown",
   "metadata": {},
   "source": [
    "- I assume, people will file a claim first before the incident, if their belongings are valuable items, in case TSA is not careful or made mistake while scanning. Yet for over than 1,000 days gap, I would assume that the belongings are less valuable. (we should check the data though! -and clean them again)"
   ]
  },
  {
   "cell_type": "markdown",
   "metadata": {},
   "source": [
    "Remove the $ sign (some data need even more clean up by replacing the ; sign into . sign) from the Claim Amount columns and Close Amount columns, and change those columns datatype into float datatype"
   ]
  },
  {
   "cell_type": "code",
   "execution_count": 27,
   "metadata": {},
   "outputs": [
    {
     "data": {
      "text/plain": [
       "0          50.00\n",
       "1        2270.09\n",
       "2         200.00\n",
       "3          21.44\n",
       "4        1832.22\n",
       "          ...   \n",
       "51061        NaN\n",
       "51062        NaN\n",
       "51063        NaN\n",
       "51064        NaN\n",
       "51065        NaN\n",
       "Name: Claim Amount, Length: 51066, dtype: float64"
      ]
     },
     "execution_count": 27,
     "metadata": {},
     "output_type": "execute_result"
    }
   ],
   "source": [
    "def clean_claim(cols):\n",
    "    if pd.isna(cols):\n",
    "        return cols\n",
    "    else:\n",
    "        x = cols[1:]\n",
    "        x = x.replace(';','')\n",
    "        return float(x)\n",
    "\n",
    "data['Claim Amount'] = data['Claim Amount'].apply(clean_claim)\n",
    "data['Claim Amount']"
   ]
  },
  {
   "cell_type": "code",
   "execution_count": 28,
   "metadata": {},
   "outputs": [],
   "source": [
    "data['Close Amount'] = data['Close Amount'].apply(clean_claim)"
   ]
  },
  {
   "cell_type": "code",
   "execution_count": 29,
   "metadata": {},
   "outputs": [
    {
     "data": {
      "text/plain": [
       "0        50.0\n",
       "1         NaN\n",
       "2         0.0\n",
       "3        21.0\n",
       "4         0.0\n",
       "         ... \n",
       "51061     NaN\n",
       "51062     NaN\n",
       "51063     NaN\n",
       "51064     NaN\n",
       "51065     NaN\n",
       "Name: Close Amount, Length: 51066, dtype: float64"
      ]
     },
     "execution_count": 29,
     "metadata": {},
     "output_type": "execute_result"
    }
   ],
   "source": [
    "data['Close Amount']"
   ]
  },
  {
   "cell_type": "markdown",
   "metadata": {},
   "source": [
    "Create a new columns called Amount Differences by substract the Claim Amount with Close Amount columns"
   ]
  },
  {
   "cell_type": "code",
   "execution_count": 30,
   "metadata": {
    "ExecuteTime": {
     "end_time": "2019-10-12T18:26:03.325856Z",
     "start_time": "2019-10-12T18:26:02.463002Z"
    }
   },
   "outputs": [
    {
     "data": {
      "text/html": [
       "<div>\n",
       "<style scoped>\n",
       "    .dataframe tbody tr th:only-of-type {\n",
       "        vertical-align: middle;\n",
       "    }\n",
       "\n",
       "    .dataframe tbody tr th {\n",
       "        vertical-align: top;\n",
       "    }\n",
       "\n",
       "    .dataframe thead th {\n",
       "        text-align: right;\n",
       "    }\n",
       "</style>\n",
       "<table border=\"1\" class=\"dataframe\">\n",
       "  <thead>\n",
       "    <tr style=\"text-align: right;\">\n",
       "      <th></th>\n",
       "      <th>Claim Number</th>\n",
       "      <th>Date Received</th>\n",
       "      <th>Incident Date</th>\n",
       "      <th>Airport Code</th>\n",
       "      <th>Airport Name</th>\n",
       "      <th>Airline Name</th>\n",
       "      <th>Claim Type</th>\n",
       "      <th>Claim Site</th>\n",
       "      <th>Item</th>\n",
       "      <th>Claim Amount</th>\n",
       "      <th>Status</th>\n",
       "      <th>Close Amount</th>\n",
       "      <th>Disposition</th>\n",
       "      <th>Day Differences</th>\n",
       "      <th>Amount Differences</th>\n",
       "    </tr>\n",
       "  </thead>\n",
       "  <tbody>\n",
       "    <tr>\n",
       "      <td>0</td>\n",
       "      <td>0909816M</td>\n",
       "      <td>2002-02-07</td>\n",
       "      <td>2003-01-06</td>\n",
       "      <td>MIA</td>\n",
       "      <td>Miami International Airport</td>\n",
       "      <td>American Airlines</td>\n",
       "      <td>Property Damage</td>\n",
       "      <td>Checkpoint</td>\n",
       "      <td>Luggage (all types including footlockers)</td>\n",
       "      <td>50.00</td>\n",
       "      <td>Approved</td>\n",
       "      <td>50.0</td>\n",
       "      <td>Approve in Full</td>\n",
       "      <td>-333.0</td>\n",
       "      <td>0.0</td>\n",
       "    </tr>\n",
       "    <tr>\n",
       "      <td>1</td>\n",
       "      <td>14268</td>\n",
       "      <td>2002-06-20</td>\n",
       "      <td>2002-06-16</td>\n",
       "      <td>PHX</td>\n",
       "      <td>Phoenix Sky Harbor International</td>\n",
       "      <td>NaN</td>\n",
       "      <td>Property Damage</td>\n",
       "      <td>Checkpoint</td>\n",
       "      <td>Computer - Laptop</td>\n",
       "      <td>2270.09</td>\n",
       "      <td>Canceled</td>\n",
       "      <td>NaN</td>\n",
       "      <td>NaN</td>\n",
       "      <td>4.0</td>\n",
       "      <td>NaN</td>\n",
       "    </tr>\n",
       "    <tr>\n",
       "      <td>2</td>\n",
       "      <td>15242</td>\n",
       "      <td>2002-07-12</td>\n",
       "      <td>2002-05-31</td>\n",
       "      <td>BWI</td>\n",
       "      <td>Baltimore/Washington Intl Thurgood Marshall</td>\n",
       "      <td>American Airlines</td>\n",
       "      <td>NaN</td>\n",
       "      <td>Other</td>\n",
       "      <td>Luggage (all types including footlockers)</td>\n",
       "      <td>200.00</td>\n",
       "      <td>Denied</td>\n",
       "      <td>0.0</td>\n",
       "      <td>Deny</td>\n",
       "      <td>42.0</td>\n",
       "      <td>200.0</td>\n",
       "    </tr>\n",
       "  </tbody>\n",
       "</table>\n",
       "</div>"
      ],
      "text/plain": [
       "  Claim Number Date Received Incident Date Airport Code  \\\n",
       "0     0909816M    2002-02-07    2003-01-06          MIA   \n",
       "1        14268    2002-06-20    2002-06-16          PHX   \n",
       "2        15242    2002-07-12    2002-05-31          BWI   \n",
       "\n",
       "                                  Airport Name       Airline Name  \\\n",
       "0                  Miami International Airport  American Airlines   \n",
       "1             Phoenix Sky Harbor International                NaN   \n",
       "2  Baltimore/Washington Intl Thurgood Marshall  American Airlines   \n",
       "\n",
       "        Claim Type  Claim Site                                       Item  \\\n",
       "0  Property Damage  Checkpoint  Luggage (all types including footlockers)   \n",
       "1  Property Damage  Checkpoint                          Computer - Laptop   \n",
       "2              NaN       Other  Luggage (all types including footlockers)   \n",
       "\n",
       "   Claim Amount    Status  Close Amount      Disposition  Day Differences  \\\n",
       "0         50.00  Approved          50.0  Approve in Full           -333.0   \n",
       "1       2270.09  Canceled           NaN              NaN              4.0   \n",
       "2        200.00    Denied           0.0             Deny             42.0   \n",
       "\n",
       "   Amount Differences  \n",
       "0                 0.0  \n",
       "1                 NaN  \n",
       "2               200.0  "
      ]
     },
     "execution_count": 30,
     "metadata": {},
     "output_type": "execute_result"
    }
   ],
   "source": [
    "adif = []\n",
    "for i,j in zip(data['Claim Amount'],data['Close Amount']):\n",
    "    adif.append(i-j)\n",
    "data['Amount Differences']=pd.Series(adif)\n",
    "data.head(3)"
   ]
  },
  {
   "cell_type": "markdown",
   "metadata": {
    "ExecuteTime": {
     "end_time": "2019-10-12T13:39:07.676434Z",
     "start_time": "2019-10-12T13:39:07.603597Z"
    }
   },
   "source": [
    "Lets try to visualize it again similar to the Day Differences feature, but this time we would use the Amount Differences feature (still just drop the NaN first)"
   ]
  },
  {
   "cell_type": "code",
   "execution_count": 31,
   "metadata": {},
   "outputs": [],
   "source": [
    "data_ad = pd.DataFrame(data['Amount Differences'].dropna())"
   ]
  },
  {
   "cell_type": "code",
   "execution_count": 32,
   "metadata": {
    "ExecuteTime": {
     "end_time": "2019-10-12T18:26:03.756834Z",
     "start_time": "2019-10-12T18:26:03.379975Z"
    }
   },
   "outputs": [
    {
     "data": {
      "text/plain": [
       "Text(0.5, 1.0, 'Amount Differences Distribution')"
      ]
     },
     "execution_count": 32,
     "metadata": {},
     "output_type": "execute_result"
    },
    {
     "data": {
      "image/png": "[encoded data removed]",
      "text/plain": [
       "<Figure size 432x360 with 1 Axes>"
      ]
     },
     "metadata": {},
     "output_type": "display_data"
    }
   ],
   "source": [
    " ## AMOUNT DIFFERENCE ##\n",
    "plt.figure(figsize=(6,5))\n",
    "sns.set_style(\"darkgrid\")\n",
    "sns.distplot(data_ad,bins=None,hist=True)\n",
    "plt.title('Amount Differences Distribution')"
   ]
  },
  {
   "cell_type": "markdown",
   "metadata": {},
   "source": [
    "There is seems a differences in number that was way far. This time, lets use the Interquartile range (IQR) method to find the datapoint that seems to be an outlier based on the Amount Differences column, show the dataframe, and lets describe the Claim Amount and Close Amount column of the outlier dataframe based on the Amount Differences column"
   ]
  },
  {
   "cell_type": "code",
   "execution_count": 33,
   "metadata": {},
   "outputs": [],
   "source": [
    "np.sort(data_ad)\n",
    "Q1,Q3=np.percentile(data_ad,[25,75])\n",
    "IQR = Q3-Q1\n",
    "lower = Q1-(1.5*IQR)\n",
    "upper = Q3+(1.5*IQR)"
   ]
  },
  {
   "cell_type": "code",
   "execution_count": 34,
   "metadata": {},
   "outputs": [
    {
     "name": "stdout",
     "output_type": "stream",
     "text": [
      "-510.0\n",
      "850.0\n"
     ]
    }
   ],
   "source": [
    "print(lower)\n",
    "print(upper)"
   ]
  },
  {
   "cell_type": "code",
   "execution_count": 35,
   "metadata": {},
   "outputs": [
    {
     "data": {
      "text/html": [
       "<div>\n",
       "<style scoped>\n",
       "    .dataframe tbody tr th:only-of-type {\n",
       "        vertical-align: middle;\n",
       "    }\n",
       "\n",
       "    .dataframe tbody tr th {\n",
       "        vertical-align: top;\n",
       "    }\n",
       "\n",
       "    .dataframe thead th {\n",
       "        text-align: right;\n",
       "    }\n",
       "</style>\n",
       "<table border=\"1\" class=\"dataframe\">\n",
       "  <thead>\n",
       "    <tr style=\"text-align: right;\">\n",
       "      <th></th>\n",
       "      <th>Claim Number</th>\n",
       "      <th>Date Received</th>\n",
       "      <th>Incident Date</th>\n",
       "      <th>Airport Code</th>\n",
       "      <th>Airport Name</th>\n",
       "      <th>Airline Name</th>\n",
       "      <th>Claim Type</th>\n",
       "      <th>Claim Site</th>\n",
       "      <th>Item</th>\n",
       "      <th>Claim Amount</th>\n",
       "      <th>Status</th>\n",
       "      <th>Close Amount</th>\n",
       "      <th>Disposition</th>\n",
       "      <th>Day Differences</th>\n",
       "      <th>Amount Differences</th>\n",
       "    </tr>\n",
       "  </thead>\n",
       "  <tbody>\n",
       "    <tr>\n",
       "      <td>4</td>\n",
       "      <td>17846</td>\n",
       "      <td>2002-09-09</td>\n",
       "      <td>2002-08-30</td>\n",
       "      <td>BOS</td>\n",
       "      <td>Boston (Logan) International Airport</td>\n",
       "      <td>NaN</td>\n",
       "      <td>Property Damage</td>\n",
       "      <td>Checkpoint</td>\n",
       "      <td>Luggage (all types including footlockers)</td>\n",
       "      <td>1832.22</td>\n",
       "      <td>Canceled</td>\n",
       "      <td>0.00</td>\n",
       "      <td>NaN</td>\n",
       "      <td>10.0</td>\n",
       "      <td>1832.22</td>\n",
       "    </tr>\n",
       "    <tr>\n",
       "      <td>13</td>\n",
       "      <td>19133</td>\n",
       "      <td>2002-10-02</td>\n",
       "      <td>2002-08-22</td>\n",
       "      <td>CLE</td>\n",
       "      <td>Cleveland Hopkins International</td>\n",
       "      <td>Northwest Airlines</td>\n",
       "      <td>NaN</td>\n",
       "      <td>Other</td>\n",
       "      <td>Computer - Laptop</td>\n",
       "      <td>2000.00</td>\n",
       "      <td>Denied</td>\n",
       "      <td>0.00</td>\n",
       "      <td>Deny</td>\n",
       "      <td>41.0</td>\n",
       "      <td>2000.00</td>\n",
       "    </tr>\n",
       "    <tr>\n",
       "      <td>21</td>\n",
       "      <td>18614</td>\n",
       "      <td>2002-10-17</td>\n",
       "      <td>2002-09-14</td>\n",
       "      <td>MCO</td>\n",
       "      <td>Orlando International Airport</td>\n",
       "      <td>American Airlines</td>\n",
       "      <td>Property Damage</td>\n",
       "      <td>Checkpoint</td>\n",
       "      <td>Computer - Laptop</td>\n",
       "      <td>2000.00</td>\n",
       "      <td>Settled</td>\n",
       "      <td>600.00</td>\n",
       "      <td>Settle</td>\n",
       "      <td>33.0</td>\n",
       "      <td>1400.00</td>\n",
       "    </tr>\n",
       "    <tr>\n",
       "      <td>23</td>\n",
       "      <td>18356</td>\n",
       "      <td>2002-10-23</td>\n",
       "      <td>2002-09-18</td>\n",
       "      <td>LGA</td>\n",
       "      <td>LaGuardia</td>\n",
       "      <td>NaN</td>\n",
       "      <td>NaN</td>\n",
       "      <td>Checkpoint</td>\n",
       "      <td>Computer - Laptop</td>\n",
       "      <td>1801.99</td>\n",
       "      <td>Settled</td>\n",
       "      <td>291.67</td>\n",
       "      <td>Settle</td>\n",
       "      <td>35.0</td>\n",
       "      <td>1510.32</td>\n",
       "    </tr>\n",
       "    <tr>\n",
       "      <td>27</td>\n",
       "      <td>21817</td>\n",
       "      <td>2002-10-29</td>\n",
       "      <td>2002-10-05</td>\n",
       "      <td>MCO</td>\n",
       "      <td>Orlando International Airport</td>\n",
       "      <td>Delta Air Lines</td>\n",
       "      <td>NaN</td>\n",
       "      <td>Other</td>\n",
       "      <td>Other</td>\n",
       "      <td>7500.00</td>\n",
       "      <td>Denied</td>\n",
       "      <td>0.00</td>\n",
       "      <td>Deny</td>\n",
       "      <td>24.0</td>\n",
       "      <td>7500.00</td>\n",
       "    </tr>\n",
       "  </tbody>\n",
       "</table>\n",
       "</div>"
      ],
      "text/plain": [
       "   Claim Number Date Received Incident Date Airport Code  \\\n",
       "4         17846    2002-09-09    2002-08-30          BOS   \n",
       "13        19133    2002-10-02    2002-08-22          CLE   \n",
       "21        18614    2002-10-17    2002-09-14          MCO   \n",
       "23        18356    2002-10-23    2002-09-18          LGA   \n",
       "27        21817    2002-10-29    2002-10-05          MCO   \n",
       "\n",
       "                            Airport Name        Airline Name       Claim Type  \\\n",
       "4   Boston (Logan) International Airport                 NaN  Property Damage   \n",
       "13       Cleveland Hopkins International  Northwest Airlines              NaN   \n",
       "21         Orlando International Airport   American Airlines  Property Damage   \n",
       "23                             LaGuardia                 NaN              NaN   \n",
       "27         Orlando International Airport     Delta Air Lines              NaN   \n",
       "\n",
       "    Claim Site                                       Item  Claim Amount  \\\n",
       "4   Checkpoint  Luggage (all types including footlockers)       1832.22   \n",
       "13       Other                          Computer - Laptop       2000.00   \n",
       "21  Checkpoint                          Computer - Laptop       2000.00   \n",
       "23  Checkpoint                          Computer - Laptop       1801.99   \n",
       "27       Other                                      Other       7500.00   \n",
       "\n",
       "      Status  Close Amount Disposition  Day Differences  Amount Differences  \n",
       "4   Canceled          0.00         NaN             10.0             1832.22  \n",
       "13    Denied          0.00        Deny             41.0             2000.00  \n",
       "21   Settled        600.00      Settle             33.0             1400.00  \n",
       "23   Settled        291.67      Settle             35.0             1510.32  \n",
       "27    Denied          0.00        Deny             24.0             7500.00  "
      ]
     },
     "execution_count": 35,
     "metadata": {},
     "output_type": "execute_result"
    }
   ],
   "source": [
    "data_filter = data.copy()\n",
    "data_filter = data[(data['Amount Differences']<=lower) | (data['Amount Differences']>=upper)]\n",
    "data_filter.head()"
   ]
  },
  {
   "cell_type": "code",
   "execution_count": 36,
   "metadata": {
    "ExecuteTime": {
     "end_time": "2019-10-12T18:26:03.861909Z",
     "start_time": "2019-10-12T18:26:03.852945Z"
    }
   },
   "outputs": [
    {
     "data": {
      "text/plain": [
       "count    4.130000e+03\n",
       "mean     4.137922e+04\n",
       "std      1.947957e+06\n",
       "min      8.500000e+02\n",
       "25%      1.200000e+03\n",
       "50%      1.802645e+03\n",
       "75%      3.000000e+03\n",
       "max      1.250000e+08\n",
       "Name: Claim Amount, dtype: float64"
      ]
     },
     "execution_count": 36,
     "metadata": {},
     "output_type": "execute_result"
    }
   ],
   "source": [
    "data_filter['Claim Amount'].describe()"
   ]
  },
  {
   "cell_type": "code",
   "execution_count": 37,
   "metadata": {
    "ExecuteTime": {
     "end_time": "2019-10-12T18:26:03.871882Z",
     "start_time": "2019-10-12T18:26:03.862906Z"
    }
   },
   "outputs": [
    {
     "data": {
      "text/plain": [
       "count     4130.000000\n",
       "mean       113.997528\n",
       "std        684.345974\n",
       "min          0.000000\n",
       "25%          0.000000\n",
       "50%          0.000000\n",
       "75%          0.000000\n",
       "max      20000.000000\n",
       "Name: Close Amount, dtype: float64"
      ]
     },
     "execution_count": 37,
     "metadata": {},
     "output_type": "execute_result"
    }
   ],
   "source": [
    "data_filter['Close Amount'].describe()"
   ]
  },
  {
   "cell_type": "markdown",
   "metadata": {},
   "source": [
    "It seems that Claim Amount feature really affecting lot of the differences that happen as 75% outlier data that in the Close Amount feature is still 0.\n",
    "\n",
    "## Question\n",
    "\n",
    "I assume that many of this big differences happen because these people tend to request for bigger money than what it should be. Do you agree or disagree with my assumption (With an assumption that not outlier is have normal amount differences and outlier have a really big amount differences)? why? Try to explain it with the data "
   ]
  },
  {
   "cell_type": "code",
   "execution_count": 38,
   "metadata": {},
   "outputs": [],
   "source": [
    "n_data1 = len(data[data['Claim Amount']>data['Close Amount']])\n",
    "n_data2 = len(data[data['Claim Amount']<data['Close Amount']])"
   ]
  },
  {
   "cell_type": "code",
   "execution_count": 39,
   "metadata": {},
   "outputs": [
    {
     "name": "stdout",
     "output_type": "stream",
     "text": [
      "Jumlah data Claim Amount > Close Amount: 24684\n",
      "\n",
      "Jumlah data Claim Amount < Close Amount : 111\n"
     ]
    }
   ],
   "source": [
    "print(f\"\"\"Jumlah data Claim Amount > Close Amount: {n_data1}\n",
    "\\nJumlah data Claim Amount < Close Amount : {n_data2}\"\"\")"
   ]
  },
  {
   "cell_type": "markdown",
   "metadata": {},
   "source": [
    "Berdasar data di atas, jumlah data Claim Bigger Money lebih banyak. Maka asumsi sebelumnya dapat dinyatakan benar."
   ]
  },
  {
   "cell_type": "markdown",
   "metadata": {},
   "source": [
    "## Analysis\n",
    "\n",
    "We have try to cleaning some of the data that we have, and now we could try to done few analysis from the data we had. Try to answer this following question.\n",
    "\n",
    "### Question\n",
    "\n",
    "1. Is there Any relationship between the Airport and/or the Airline with the number of the claim that happen and the Claim Type? Also why is there a NaN in the Claim Type column?\n",
    "\n",
    "1. If you realize, there is many different classes in the Status and Disposition column. What pattern you could find in these 2 columns because of this classes variation? is there any relation with the other columns?"
   ]
  },
  {
   "cell_type": "markdown",
   "metadata": {},
   "source": [
    "#### Relationship Between Airport or Airline with Number of Claim and Claim Type"
   ]
  },
  {
   "cell_type": "code",
   "execution_count": 40,
   "metadata": {},
   "outputs": [
    {
     "data": {
      "text/plain": [
       "American Airlines       4377\n",
       "Delta Air Lines         4371\n",
       "UAL                     3507\n",
       "Southwest Airlines      3258\n",
       "Continental Airlines    2363\n",
       "USAir                   2359\n",
       "Northwest Airlines      2311\n",
       "Delta Air Lines         2074\n",
       "Southwest Airlines      1899\n",
       "Jet Blue                1780\n",
       "Name: Airline Name, dtype: int64"
      ]
     },
     "execution_count": 40,
     "metadata": {},
     "output_type": "execute_result"
    }
   ],
   "source": [
    "data['Airline Name'].value_counts()[:10]"
   ]
  },
  {
   "cell_type": "code",
   "execution_count": 41,
   "metadata": {},
   "outputs": [
    {
     "data": {
      "text/plain": [
       "LAX    2379\n",
       "JFK    2286\n",
       "EWR    1747\n",
       "ORD    1712\n",
       "MCO    1633\n",
       "MIA    1613\n",
       "ATL    1525\n",
       "SEA    1330\n",
       "LAS    1278\n",
       "PHX    1267\n",
       "Name: Airport Code, dtype: int64"
      ]
     },
     "execution_count": 41,
     "metadata": {},
     "output_type": "execute_result"
    }
   ],
   "source": [
    "data['Airport Code'].value_counts()[:10]"
   ]
  },
  {
   "cell_type": "markdown",
   "metadata": {},
   "source": [
    "Pertama, saya ingin melihat corr antara Airline Name dan Airport Code. Melihat kedua tipe data adalah Kategorikal, maka untuk melihat korelasinya, saya menggunakan methode Chi-Square dan Crammers V."
   ]
  },
  {
   "cell_type": "code",
   "execution_count": 42,
   "metadata": {},
   "outputs": [
    {
     "data": {
      "text/html": [
       "<div>\n",
       "<style scoped>\n",
       "    .dataframe tbody tr th:only-of-type {\n",
       "        vertical-align: middle;\n",
       "    }\n",
       "\n",
       "    .dataframe tbody tr th {\n",
       "        vertical-align: top;\n",
       "    }\n",
       "\n",
       "    .dataframe thead th {\n",
       "        text-align: right;\n",
       "    }\n",
       "</style>\n",
       "<table border=\"1\" class=\"dataframe\">\n",
       "  <thead>\n",
       "    <tr style=\"text-align: right;\">\n",
       "      <th></th>\n",
       "      <th>Chi-square test</th>\n",
       "      <th>results</th>\n",
       "    </tr>\n",
       "  </thead>\n",
       "  <tbody>\n",
       "    <tr>\n",
       "      <td>0</td>\n",
       "      <td>Pearson Chi-square ( 94713.0) =</td>\n",
       "      <td>340842.1849</td>\n",
       "    </tr>\n",
       "    <tr>\n",
       "      <td>1</td>\n",
       "      <td>p-value =</td>\n",
       "      <td>0.0000</td>\n",
       "    </tr>\n",
       "    <tr>\n",
       "      <td>2</td>\n",
       "      <td>Cramer's V =</td>\n",
       "      <td>0.1859</td>\n",
       "    </tr>\n",
       "  </tbody>\n",
       "</table>\n",
       "</div>"
      ],
      "text/plain": [
       "                    Chi-square test      results\n",
       "0  Pearson Chi-square ( 94713.0) =   340842.1849\n",
       "1                        p-value =        0.0000\n",
       "2                     Cramer's V =        0.1859"
      ]
     },
     "execution_count": 42,
     "metadata": {},
     "output_type": "execute_result"
    }
   ],
   "source": [
    "from scipy.stats import chisquare\n",
    "from scipy import stats\n",
    "\n",
    "import researchpy as rp\n",
    "table, results = rp.crosstab(data['Airline Name'], data['Airport Code'], prop= 'col', test= 'chi-square')\n",
    "results"
   ]
  },
  {
   "cell_type": "markdown",
   "metadata": {},
   "source": [
    "Dengan menggunakan chi-square, bisa dilihat apakah ada korelasi yang signifikan antara 2 fitur. Hasil menunjukkan pval < dari alpha val (0.05), sehingga dengan confidence level 95% saya berasumsi bahwa ada hubungan antara 2 fitur tersebut(reject H0).\n",
    "\n",
    "Berdasarkan analisis Cramer's V, antara Airline Name dan Airport Code memiliki value 0,18 sehingga bisa dikatakan Airline Name memiliki efek korelasi yang kecil (small significance to none) terhadap Airport Code. (with range 0 to 1, 0 zero effect, 1 large effect)"
   ]
  },
  {
   "cell_type": "markdown",
   "metadata": {},
   "source": [
    "Next, saya ingin melihat corr antara Airline Name dan Airport Code jika dibandingkan dengan Claim Type, masih menggunakan metode yang sama."
   ]
  },
  {
   "cell_type": "code",
   "execution_count": 43,
   "metadata": {},
   "outputs": [
    {
     "data": {
      "text/plain": [
       "Passenger Property Loss    29713\n",
       "Property Damage            18590\n",
       "Personal Injury              394\n",
       "Passenger Theft              115\n",
       "Employee Loss (MPCECA)       114\n",
       "Motor Vehicle                 96\n",
       "Complaint                     13\n",
       "Name: Claim Type, dtype: int64"
      ]
     },
     "execution_count": 43,
     "metadata": {},
     "output_type": "execute_result"
    }
   ],
   "source": [
    "data['Claim Type'].value_counts()"
   ]
  },
  {
   "cell_type": "code",
   "execution_count": 44,
   "metadata": {},
   "outputs": [
    {
     "data": {
      "text/html": [
       "<div>\n",
       "<style scoped>\n",
       "    .dataframe tbody tr th:only-of-type {\n",
       "        vertical-align: middle;\n",
       "    }\n",
       "\n",
       "    .dataframe tbody tr th {\n",
       "        vertical-align: top;\n",
       "    }\n",
       "\n",
       "    .dataframe thead th {\n",
       "        text-align: right;\n",
       "    }\n",
       "</style>\n",
       "<table border=\"1\" class=\"dataframe\">\n",
       "  <thead>\n",
       "    <tr style=\"text-align: right;\">\n",
       "      <th></th>\n",
       "      <th>Chi-square test</th>\n",
       "      <th>results</th>\n",
       "    </tr>\n",
       "  </thead>\n",
       "  <tbody>\n",
       "    <tr>\n",
       "      <td>0</td>\n",
       "      <td>Pearson Chi-square ( 1434.0) =</td>\n",
       "      <td>1875.1708</td>\n",
       "    </tr>\n",
       "    <tr>\n",
       "      <td>1</td>\n",
       "      <td>p-value =</td>\n",
       "      <td>0.0000</td>\n",
       "    </tr>\n",
       "    <tr>\n",
       "      <td>2</td>\n",
       "      <td>Cramer's V =</td>\n",
       "      <td>0.0879</td>\n",
       "    </tr>\n",
       "  </tbody>\n",
       "</table>\n",
       "</div>"
      ],
      "text/plain": [
       "                   Chi-square test    results\n",
       "0  Pearson Chi-square ( 1434.0) =   1875.1708\n",
       "1                       p-value =      0.0000\n",
       "2                    Cramer's V =      0.0879"
      ]
     },
     "execution_count": 44,
     "metadata": {},
     "output_type": "execute_result"
    }
   ],
   "source": [
    "from scipy.stats import chisquare\n",
    "from scipy import stats\n",
    "\n",
    "import researchpy as rp\n",
    "table, results = rp.crosstab(data['Airline Name'], data['Claim Type'], prop= 'col', test= 'chi-square')\n",
    "results"
   ]
  },
  {
   "cell_type": "code",
   "execution_count": 45,
   "metadata": {},
   "outputs": [
    {
     "data": {
      "text/html": [
       "<div>\n",
       "<style scoped>\n",
       "    .dataframe tbody tr th:only-of-type {\n",
       "        vertical-align: middle;\n",
       "    }\n",
       "\n",
       "    .dataframe tbody tr th {\n",
       "        vertical-align: top;\n",
       "    }\n",
       "\n",
       "    .dataframe thead th {\n",
       "        text-align: right;\n",
       "    }\n",
       "</style>\n",
       "<table border=\"1\" class=\"dataframe\">\n",
       "  <thead>\n",
       "    <tr style=\"text-align: right;\">\n",
       "      <th></th>\n",
       "      <th>Chi-square test</th>\n",
       "      <th>results</th>\n",
       "    </tr>\n",
       "  </thead>\n",
       "  <tbody>\n",
       "    <tr>\n",
       "      <td>0</td>\n",
       "      <td>Pearson Chi-square ( 2412.0) =</td>\n",
       "      <td>20547.0737</td>\n",
       "    </tr>\n",
       "    <tr>\n",
       "      <td>1</td>\n",
       "      <td>p-value =</td>\n",
       "      <td>0.0000</td>\n",
       "    </tr>\n",
       "    <tr>\n",
       "      <td>2</td>\n",
       "      <td>Cramer's V =</td>\n",
       "      <td>0.2687</td>\n",
       "    </tr>\n",
       "  </tbody>\n",
       "</table>\n",
       "</div>"
      ],
      "text/plain": [
       "                   Chi-square test     results\n",
       "0  Pearson Chi-square ( 2412.0) =   20547.0737\n",
       "1                       p-value =       0.0000\n",
       "2                    Cramer's V =       0.2687"
      ]
     },
     "execution_count": 45,
     "metadata": {},
     "output_type": "execute_result"
    }
   ],
   "source": [
    "from scipy.stats import chisquare\n",
    "from scipy import stats\n",
    "\n",
    "import researchpy as rp\n",
    "table, results = rp.crosstab(data['Airport Code'], data['Claim Type'], prop= 'col', test= 'chi-square')\n",
    "results"
   ]
  },
  {
   "cell_type": "markdown",
   "metadata": {},
   "source": [
    "Dengan confidence level 95%, saya berasumsi ada hubungan (Reject H0) antara Airport Code dan Airline Name dengan Claim Type (pVal < alpha value 0,05).\n",
    "\n",
    "Berdasarkan analisis Cramer's V:\n",
    "Airline Name dan Claim Type = 0,08\n",
    "Airport Code dan Claim Type = 0,26\n",
    "\n",
    "Bisa dikatakan, Airport Code memiliki signifikansi efek yang lebih besar terhadap Claim Type dibandingkan dengan Airline Code (with range 0 to 1, 0 zero effect, 1 large effect)."
   ]
  },
  {
   "cell_type": "code",
   "execution_count": 46,
   "metadata": {},
   "outputs": [
    {
     "data": {
      "text/plain": [
       "<matplotlib.axes._subplots.AxesSubplot at 0x185e28a75c8>"
      ]
     },
     "execution_count": 46,
     "metadata": {},
     "output_type": "execute_result"
    },
    {
     "data": {
      "image/png": "[encoded data removed]",
      "text/plain": [
       "<Figure size 1080x720 with 1 Axes>"
      ]
     },
     "metadata": {},
     "output_type": "display_data"
    }
   ],
   "source": [
    "plt.figure(figsize=(15,10))\n",
    "plt.title('Count Plot of Airport Code VS Claim Type')\n",
    "sns.scatterplot(data = data, x = 'Airport Code', y = 'Claim Type')\n",
    "## Need Cleaning ##"
   ]
  },
  {
   "cell_type": "markdown",
   "metadata": {},
   "source": [
    "Here I try to visualize the relation of Claim Type in all Airport Code, to see what kind of Claim usually each of airport has. (But it needs more cleaning)."
   ]
  },
  {
   "cell_type": "code",
   "execution_count": 47,
   "metadata": {},
   "outputs": [
    {
     "data": {
      "text/html": [
       "<div>\n",
       "<style scoped>\n",
       "    .dataframe tbody tr th:only-of-type {\n",
       "        vertical-align: middle;\n",
       "    }\n",
       "\n",
       "    .dataframe tbody tr th {\n",
       "        vertical-align: top;\n",
       "    }\n",
       "\n",
       "    .dataframe thead th {\n",
       "        text-align: right;\n",
       "    }\n",
       "</style>\n",
       "<table border=\"1\" class=\"dataframe\">\n",
       "  <thead>\n",
       "    <tr style=\"text-align: right;\">\n",
       "      <th></th>\n",
       "      <th>Claim Number</th>\n",
       "      <th>Date Received</th>\n",
       "      <th>Incident Date</th>\n",
       "      <th>Airport Code</th>\n",
       "      <th>Airport Name</th>\n",
       "      <th>Airline Name</th>\n",
       "      <th>Claim Type</th>\n",
       "      <th>Claim Site</th>\n",
       "      <th>Item</th>\n",
       "      <th>Claim Amount</th>\n",
       "      <th>Status</th>\n",
       "      <th>Close Amount</th>\n",
       "      <th>Disposition</th>\n",
       "      <th>Day Differences</th>\n",
       "      <th>Amount Differences</th>\n",
       "    </tr>\n",
       "  </thead>\n",
       "  <tbody>\n",
       "    <tr>\n",
       "      <td>2</td>\n",
       "      <td>15242</td>\n",
       "      <td>2002-07-12</td>\n",
       "      <td>2002-05-31</td>\n",
       "      <td>BWI</td>\n",
       "      <td>Baltimore/Washington Intl Thurgood Marshall</td>\n",
       "      <td>American Airlines</td>\n",
       "      <td>NaN</td>\n",
       "      <td>Other</td>\n",
       "      <td>Luggage (all types including footlockers)</td>\n",
       "      <td>200.0</td>\n",
       "      <td>Denied</td>\n",
       "      <td>0.00</td>\n",
       "      <td>Deny</td>\n",
       "      <td>42.0</td>\n",
       "      <td>200.00</td>\n",
       "    </tr>\n",
       "    <tr>\n",
       "      <td>6</td>\n",
       "      <td>18202</td>\n",
       "      <td>2002-09-16</td>\n",
       "      <td>2002-08-12</td>\n",
       "      <td>BWI</td>\n",
       "      <td>Baltimore/Washington Intl Thurgood Marshall</td>\n",
       "      <td>NaN</td>\n",
       "      <td>NaN</td>\n",
       "      <td>Checkpoint</td>\n",
       "      <td>Computer - Laptop</td>\n",
       "      <td>678.0</td>\n",
       "      <td>Approved</td>\n",
       "      <td>678.00</td>\n",
       "      <td>Approve in Full</td>\n",
       "      <td>35.0</td>\n",
       "      <td>0.00</td>\n",
       "    </tr>\n",
       "    <tr>\n",
       "      <td>7</td>\n",
       "      <td>16961</td>\n",
       "      <td>2002-09-18</td>\n",
       "      <td>2002-08-05</td>\n",
       "      <td>NaN</td>\n",
       "      <td>NaN</td>\n",
       "      <td>Delta Air Lines</td>\n",
       "      <td>NaN</td>\n",
       "      <td>Checked Baggage</td>\n",
       "      <td>Other</td>\n",
       "      <td>175.0</td>\n",
       "      <td>Settled</td>\n",
       "      <td>171.99</td>\n",
       "      <td>Settle</td>\n",
       "      <td>44.0</td>\n",
       "      <td>3.01</td>\n",
       "    </tr>\n",
       "    <tr>\n",
       "      <td>8</td>\n",
       "      <td>18394</td>\n",
       "      <td>2002-09-20</td>\n",
       "      <td>2002-08-12</td>\n",
       "      <td>BWI</td>\n",
       "      <td>Baltimore/Washington Intl Thurgood Marshall</td>\n",
       "      <td>Southwest Airlines</td>\n",
       "      <td>NaN</td>\n",
       "      <td>Checkpoint</td>\n",
       "      <td>Other</td>\n",
       "      <td>150.0</td>\n",
       "      <td>Denied</td>\n",
       "      <td>0.00</td>\n",
       "      <td>Deny</td>\n",
       "      <td>39.0</td>\n",
       "      <td>150.00</td>\n",
       "    </tr>\n",
       "    <tr>\n",
       "      <td>11</td>\n",
       "      <td>0616760L</td>\n",
       "      <td>2002-09-26</td>\n",
       "      <td>NaT</td>\n",
       "      <td>NaN</td>\n",
       "      <td>NaN</td>\n",
       "      <td>NaN</td>\n",
       "      <td>NaN</td>\n",
       "      <td>Other</td>\n",
       "      <td>Locks</td>\n",
       "      <td>NaN</td>\n",
       "      <td>Insufficient; one of the following items requi...</td>\n",
       "      <td>NaN</td>\n",
       "      <td>NaN</td>\n",
       "      <td>NaN</td>\n",
       "      <td>NaN</td>\n",
       "    </tr>\n",
       "  </tbody>\n",
       "</table>\n",
       "</div>"
      ],
      "text/plain": [
       "   Claim Number Date Received Incident Date Airport Code  \\\n",
       "2         15242    2002-07-12    2002-05-31          BWI   \n",
       "6         18202    2002-09-16    2002-08-12          BWI   \n",
       "7         16961    2002-09-18    2002-08-05          NaN   \n",
       "8         18394    2002-09-20    2002-08-12          BWI   \n",
       "11     0616760L    2002-09-26           NaT          NaN   \n",
       "\n",
       "                                   Airport Name        Airline Name  \\\n",
       "2   Baltimore/Washington Intl Thurgood Marshall   American Airlines   \n",
       "6   Baltimore/Washington Intl Thurgood Marshall                 NaN   \n",
       "7                                           NaN     Delta Air Lines   \n",
       "8   Baltimore/Washington Intl Thurgood Marshall  Southwest Airlines   \n",
       "11                                          NaN                 NaN   \n",
       "\n",
       "   Claim Type       Claim Site                                       Item  \\\n",
       "2         NaN            Other  Luggage (all types including footlockers)   \n",
       "6         NaN       Checkpoint                          Computer - Laptop   \n",
       "7         NaN  Checked Baggage                                      Other   \n",
       "8         NaN       Checkpoint                                      Other   \n",
       "11        NaN            Other                                      Locks   \n",
       "\n",
       "    Claim Amount                                             Status  \\\n",
       "2          200.0                                             Denied   \n",
       "6          678.0                                           Approved   \n",
       "7          175.0                                            Settled   \n",
       "8          150.0                                             Denied   \n",
       "11           NaN  Insufficient; one of the following items requi...   \n",
       "\n",
       "    Close Amount      Disposition  Day Differences  Amount Differences  \n",
       "2           0.00             Deny             42.0              200.00  \n",
       "6         678.00  Approve in Full             35.0                0.00  \n",
       "7         171.99           Settle             44.0                3.01  \n",
       "8           0.00             Deny             39.0              150.00  \n",
       "11           NaN              NaN              NaN                 NaN  "
      ]
     },
     "execution_count": 47,
     "metadata": {},
     "output_type": "execute_result"
    }
   ],
   "source": [
    "data[data['Claim Type'].isna()].head()"
   ]
  },
  {
   "cell_type": "code",
   "execution_count": 48,
   "metadata": {},
   "outputs": [
    {
     "data": {
      "text/plain": [
       "Other                                         563\n",
       "Luggage (all types including footlockers)     268\n",
       "Clothing - Shoes; belts; accessories; etc.    257\n",
       "Jewelry - Fine                                192\n",
       "Cameras - Digital                             145\n",
       "Name: Item, dtype: int64"
      ]
     },
     "execution_count": 48,
     "metadata": {},
     "output_type": "execute_result"
    }
   ],
   "source": [
    "data[data['Claim Type'].isna()]['Item'].value_counts()[:5]"
   ]
  },
  {
   "cell_type": "code",
   "execution_count": 49,
   "metadata": {},
   "outputs": [
    {
     "data": {
      "text/plain": [
       "Checked Baggage    1203\n",
       "Other               436\n",
       "Checkpoint          257\n",
       "Motor Vehicle         5\n",
       "Name: Claim Site, dtype: int64"
      ]
     },
     "execution_count": 49,
     "metadata": {},
     "output_type": "execute_result"
    }
   ],
   "source": [
    "data[data['Claim Type'].isna()]['Claim Site'].value_counts()[:5]"
   ]
  },
  {
   "cell_type": "code",
   "execution_count": 50,
   "metadata": {},
   "outputs": [
    {
     "data": {
      "text/plain": [
       "LAX    100\n",
       "EWR     71\n",
       "MIA     65\n",
       "ORD     60\n",
       "JFK     53\n",
       "Name: Airport Code, dtype: int64"
      ]
     },
     "execution_count": 50,
     "metadata": {},
     "output_type": "execute_result"
    }
   ],
   "source": [
    "data[data['Claim Type'].isna()]['Airport Code'].value_counts()[:5]"
   ]
  },
  {
   "cell_type": "code",
   "execution_count": 51,
   "metadata": {},
   "outputs": [
    {
     "data": {
      "text/plain": [
       "American Airlines     166\n",
       "Delta Air Lines       161\n",
       "UAL                   122\n",
       "Northwest Airlines     89\n",
       "USAir                  89\n",
       "Name: Airline Name, dtype: int64"
      ]
     },
     "execution_count": 51,
     "metadata": {},
     "output_type": "execute_result"
    }
   ],
   "source": [
    "data[data['Claim Type'].isna()]['Airline Name'].value_counts()[:5]"
   ]
  },
  {
   "cell_type": "markdown",
   "metadata": {},
   "source": [
    "Based on exploratory data above, I would assume people report NaN Claim Data because they don't know the item being reported or maybe they did not stated the item, as data above stated the top frequency of the item is \"Other\" / not stated.\n",
    "Most item reported while in checked Bagage, in LAX Airport, and from American & Delta Airlines."
   ]
  },
  {
   "cell_type": "markdown",
   "metadata": {},
   "source": [
    "#### Pattern Status and Disposition Column"
   ]
  },
  {
   "cell_type": "code",
   "execution_count": 52,
   "metadata": {
    "scrolled": true
   },
   "outputs": [
    {
     "data": {
      "text/plain": [
       "Text(0.5, 1.0, 'Status Count')"
      ]
     },
     "execution_count": 52,
     "metadata": {},
     "output_type": "execute_result"
    },
    {
     "data": {
      "image/png": "[encoded data removed]",
      "text/plain": [
       "<Figure size 576x216 with 1 Axes>"
      ]
     },
     "metadata": {},
     "output_type": "display_data"
    }
   ],
   "source": [
    "plt.figure(figsize=(8,3))\n",
    "sns.countplot(y=data['Status'], data=data)\n",
    "plt.title('Status Count')"
   ]
  },
  {
   "cell_type": "code",
   "execution_count": 53,
   "metadata": {
    "scrolled": false
   },
   "outputs": [
    {
     "data": {
      "text/plain": [
       "Text(0.5, 1.0, 'Disposition Count')"
      ]
     },
     "execution_count": 53,
     "metadata": {},
     "output_type": "execute_result"
    },
    {
     "data": {
      "image/png": "[encoded data removed]",
      "text/plain": [
       "<Figure size 576x216 with 1 Axes>"
      ]
     },
     "metadata": {},
     "output_type": "display_data"
    }
   ],
   "source": [
    "plt.figure(figsize=(8,3))\n",
    "sns.countplot(y=data['Disposition'], data=data)\n",
    "plt.title('Disposition Count')"
   ]
  },
  {
   "cell_type": "markdown",
   "metadata": {},
   "source": [
    "#### PATTERN: Many claims status are DENIED"
   ]
  },
  {
   "cell_type": "code",
   "execution_count": 54,
   "metadata": {},
   "outputs": [],
   "source": [
    "claim_stat_data = data[(data['Disposition']=='Deny') & (data['Status']=='Denied')]"
   ]
  },
  {
   "cell_type": "code",
   "execution_count": 55,
   "metadata": {},
   "outputs": [
    {
     "name": "stdout",
     "output_type": "stream",
     "text": [
      "Jumlah data Claim Amo > Close Amo = 16496\n",
      "Jumlah data Claim Amo < Close Amo = 4\n"
     ]
    }
   ],
   "source": [
    "n_data3 = len(claim_stat_data[claim_stat_data['Claim Amount']>claim_stat_data['Close Amount']])\n",
    "n_data4 = len(claim_stat_data[claim_stat_data['Claim Amount']<claim_stat_data['Close Amount']])\n",
    "\n",
    "print(f\"Jumlah data Claim Amo > Close Amo = {n_data3}\")\n",
    "print(f\"Jumlah data Claim Amo < Close Amo = {n_data4}\")"
   ]
  },
  {
   "cell_type": "markdown",
   "metadata": {},
   "source": [
    "Based on exploratory data, Status and Disposition are influenced by Claim Amo and Close Amo Columns. Where Claim Amo are higher or when people claimed bigger money, the higher the chance for the claim to be denied by TSA. I assume this conclusion based on data size difference as stated above."
   ]
  },
  {
   "cell_type": "markdown",
   "metadata": {},
   "source": [
    "## Bonus Question\n",
    "\n",
    "Could you find any interesting Insight from our data that you could explain? Try to explain it with the available data"
   ]
  },
  {
   "cell_type": "code",
   "execution_count": 56,
   "metadata": {},
   "outputs": [
    {
     "data": {
      "text/plain": [
       "American Airlines       4377\n",
       "Delta Air Lines         4371\n",
       "UAL                     3507\n",
       "Southwest Airlines      3258\n",
       "Continental Airlines    2363\n",
       "USAir                   2359\n",
       "Northwest Airlines      2311\n",
       "Delta Air Lines         2074\n",
       "Southwest Airlines      1899\n",
       "Jet Blue                1780\n",
       "Name: Airline Name, dtype: int64"
      ]
     },
     "execution_count": 56,
     "metadata": {},
     "output_type": "execute_result"
    }
   ],
   "source": [
    "data['Airline Name'].value_counts()[:10]"
   ]
  },
  {
   "cell_type": "markdown",
   "metadata": {},
   "source": [
    "We could see from above, the top 10 of Airline whose passenger filed Claim to TSA or where TSA made most mistakes."
   ]
  },
  {
   "cell_type": "code",
   "execution_count": 57,
   "metadata": {
    "scrolled": true
   },
   "outputs": [
    {
     "data": {
      "text/plain": [
       "LAX    2379\n",
       "JFK    2286\n",
       "EWR    1747\n",
       "ORD    1712\n",
       "MCO    1633\n",
       "MIA    1613\n",
       "ATL    1525\n",
       "SEA    1330\n",
       "LAS    1278\n",
       "PHX    1267\n",
       "Name: Airport Code, dtype: int64"
      ]
     },
     "execution_count": 57,
     "metadata": {},
     "output_type": "execute_result"
    }
   ],
   "source": [
    "data['Airport Code'].value_counts()[:10]"
   ]
  },
  {
   "cell_type": "markdown",
   "metadata": {},
   "source": [
    "We could see from above, the top 10 of Airport whose passenger filed Claim to TSA or where TSA made most mistakes."
   ]
  },
  {
   "cell_type": "code",
   "execution_count": 70,
   "metadata": {
    "scrolled": true
   },
   "outputs": [
    {
     "data": {
      "text/plain": [
       "Other                                         9183\n",
       "Luggage (all types including footlockers)     4818\n",
       "Clothing - Shoes; belts; accessories; etc.    3761\n",
       "Jewelry - Fine                                2488\n",
       "Locks                                         2408\n",
       "Cameras - Digital                             2280\n",
       "Computer - Laptop                             2146\n",
       "Baggage/Cases/Purses                          1513\n",
       "Computer & Accessories                        1276\n",
       "Clothing                                      1161\n",
       "Name: Item, dtype: int64"
      ]
     },
     "execution_count": 70,
     "metadata": {},
     "output_type": "execute_result"
    }
   ],
   "source": [
    "data['Item'].value_counts()[:10]"
   ]
  },
  {
   "cell_type": "markdown",
   "metadata": {},
   "source": [
    "We could see, the top two where TSA made most mistakes or when people made complains are in US (Airport LAX and JFK) also US Airlines (American Airlines and Delta Airlines). Most of it items not stated."
   ]
  },
  {
   "cell_type": "markdown",
   "metadata": {},
   "source": [
    "### DASHPLOT"
   ]
  },
  {
   "cell_type": "markdown",
   "metadata": {},
   "source": [
    "To create our dashboard, lets use only the data that was not outlier according to the Amount Differences. As we did not process all the NaN, just drop all those NaN. Save the file as 'tsa_claims_dashboard_ujian.csv', don't include the Index. As we don't want to have too much data in our dashboard, let's just sample 1000 data from our current data.\n",
    "\n",
    "Also, set the random seed to 101."
   ]
  },
  {
   "cell_type": "code",
   "execution_count": 58,
   "metadata": {
    "ExecuteTime": {
     "end_time": "2019-10-12T18:26:03.876870Z",
     "start_time": "2019-10-12T18:26:03.872932Z"
    }
   },
   "outputs": [],
   "source": [
    "np.random.seed(101)"
   ]
  },
  {
   "cell_type": "code",
   "execution_count": 59,
   "metadata": {
    "ExecuteTime": {
     "end_time": "2019-10-12T18:26:03.920830Z",
     "start_time": "2019-10-12T18:26:03.877868Z"
    }
   },
   "outputs": [],
   "source": [
    "data_normal = data[(data['Amount Differences']>=lower) | (data['Amount Differences']<=upper)]"
   ]
  },
  {
   "cell_type": "code",
   "execution_count": 60,
   "metadata": {},
   "outputs": [
    {
     "data": {
      "text/html": [
       "<div>\n",
       "<style scoped>\n",
       "    .dataframe tbody tr th:only-of-type {\n",
       "        vertical-align: middle;\n",
       "    }\n",
       "\n",
       "    .dataframe tbody tr th {\n",
       "        vertical-align: top;\n",
       "    }\n",
       "\n",
       "    .dataframe thead th {\n",
       "        text-align: right;\n",
       "    }\n",
       "</style>\n",
       "<table border=\"1\" class=\"dataframe\">\n",
       "  <thead>\n",
       "    <tr style=\"text-align: right;\">\n",
       "      <th></th>\n",
       "      <th>Claim Number</th>\n",
       "      <th>Date Received</th>\n",
       "      <th>Incident Date</th>\n",
       "      <th>Airport Code</th>\n",
       "      <th>Airport Name</th>\n",
       "      <th>Airline Name</th>\n",
       "      <th>Claim Type</th>\n",
       "      <th>Claim Site</th>\n",
       "      <th>Item</th>\n",
       "      <th>Claim Amount</th>\n",
       "      <th>Status</th>\n",
       "      <th>Close Amount</th>\n",
       "      <th>Disposition</th>\n",
       "      <th>Day Differences</th>\n",
       "      <th>Amount Differences</th>\n",
       "    </tr>\n",
       "  </thead>\n",
       "  <tbody>\n",
       "    <tr>\n",
       "      <td>0</td>\n",
       "      <td>0909816M</td>\n",
       "      <td>2002-02-07</td>\n",
       "      <td>2003-01-06 00:00:00</td>\n",
       "      <td>MIA</td>\n",
       "      <td>Miami International Airport</td>\n",
       "      <td>American Airlines</td>\n",
       "      <td>Property Damage</td>\n",
       "      <td>Checkpoint</td>\n",
       "      <td>Luggage (all types including footlockers)</td>\n",
       "      <td>50.00</td>\n",
       "      <td>Approved</td>\n",
       "      <td>50.00</td>\n",
       "      <td>Approve in Full</td>\n",
       "      <td>-333.0</td>\n",
       "      <td>0.00</td>\n",
       "    </tr>\n",
       "    <tr>\n",
       "      <td>3</td>\n",
       "      <td>16759</td>\n",
       "      <td>2002-08-21</td>\n",
       "      <td>2002-07-12 00:00:00</td>\n",
       "      <td>BWI</td>\n",
       "      <td>Baltimore/Washington Intl Thurgood Marshall</td>\n",
       "      <td>Southwest Airlines</td>\n",
       "      <td>Passenger Property Loss</td>\n",
       "      <td>Checkpoint</td>\n",
       "      <td>Other</td>\n",
       "      <td>21.44</td>\n",
       "      <td>Approved</td>\n",
       "      <td>21.00</td>\n",
       "      <td>Approve in Full</td>\n",
       "      <td>40.0</td>\n",
       "      <td>0.44</td>\n",
       "    </tr>\n",
       "    <tr>\n",
       "      <td>14</td>\n",
       "      <td>18908</td>\n",
       "      <td>2002-10-09</td>\n",
       "      <td>2002-09-09 00:00:00</td>\n",
       "      <td>RDU</td>\n",
       "      <td>Raleigh-Durham International</td>\n",
       "      <td>Continental Airlines</td>\n",
       "      <td>Property Damage</td>\n",
       "      <td>Checkpoint</td>\n",
       "      <td>Other</td>\n",
       "      <td>342.36</td>\n",
       "      <td>Approved</td>\n",
       "      <td>237.00</td>\n",
       "      <td>Approve in Full</td>\n",
       "      <td>30.0</td>\n",
       "      <td>105.36</td>\n",
       "    </tr>\n",
       "    <tr>\n",
       "      <td>17</td>\n",
       "      <td>21052</td>\n",
       "      <td>2002-10-17</td>\n",
       "      <td>2002-09-22 00:00:00</td>\n",
       "      <td>MCO</td>\n",
       "      <td>Orlando International Airport</td>\n",
       "      <td>Virgin Atlantic</td>\n",
       "      <td>Property Damage</td>\n",
       "      <td>Checkpoint</td>\n",
       "      <td>Eyeglasses - (including contact lenses)</td>\n",
       "      <td>60.00</td>\n",
       "      <td>Approved</td>\n",
       "      <td>60.00</td>\n",
       "      <td>Approve in Full</td>\n",
       "      <td>25.0</td>\n",
       "      <td>0.00</td>\n",
       "    </tr>\n",
       "    <tr>\n",
       "      <td>21</td>\n",
       "      <td>18614</td>\n",
       "      <td>2002-10-17</td>\n",
       "      <td>2002-09-14 00:00:00</td>\n",
       "      <td>MCO</td>\n",
       "      <td>Orlando International Airport</td>\n",
       "      <td>American Airlines</td>\n",
       "      <td>Property Damage</td>\n",
       "      <td>Checkpoint</td>\n",
       "      <td>Computer - Laptop</td>\n",
       "      <td>2000.00</td>\n",
       "      <td>Settled</td>\n",
       "      <td>600.00</td>\n",
       "      <td>Settle</td>\n",
       "      <td>33.0</td>\n",
       "      <td>1400.00</td>\n",
       "    </tr>\n",
       "    <tr>\n",
       "      <td>...</td>\n",
       "      <td>...</td>\n",
       "      <td>...</td>\n",
       "      <td>...</td>\n",
       "      <td>...</td>\n",
       "      <td>...</td>\n",
       "      <td>...</td>\n",
       "      <td>...</td>\n",
       "      <td>...</td>\n",
       "      <td>...</td>\n",
       "      <td>...</td>\n",
       "      <td>...</td>\n",
       "      <td>...</td>\n",
       "      <td>...</td>\n",
       "      <td>...</td>\n",
       "      <td>...</td>\n",
       "    </tr>\n",
       "    <tr>\n",
       "      <td>36243</td>\n",
       "      <td>2010010667221</td>\n",
       "      <td>2009-12-30</td>\n",
       "      <td>2009-12-01 16:40:00</td>\n",
       "      <td>AUS</td>\n",
       "      <td>Austin-Bergstrom International Airport</td>\n",
       "      <td>Alaska Airlines</td>\n",
       "      <td>Property Damage</td>\n",
       "      <td>Checked Baggage</td>\n",
       "      <td>Medical Equipment &amp; Insturments</td>\n",
       "      <td>80.00</td>\n",
       "      <td>Settled</td>\n",
       "      <td>72.00</td>\n",
       "      <td>Settle</td>\n",
       "      <td>28.0</td>\n",
       "      <td>8.00</td>\n",
       "    </tr>\n",
       "    <tr>\n",
       "      <td>36244</td>\n",
       "      <td>2010010867347</td>\n",
       "      <td>2009-12-30</td>\n",
       "      <td>2009-11-02 00:00:00</td>\n",
       "      <td>ORD</td>\n",
       "      <td>Chicago O'Hare International Airport</td>\n",
       "      <td>UAL</td>\n",
       "      <td>Passenger Property Loss</td>\n",
       "      <td>Checked Baggage</td>\n",
       "      <td>DVD/CD Players; Handbags &amp; Purses (leather or ...</td>\n",
       "      <td>546.95</td>\n",
       "      <td>Settled</td>\n",
       "      <td>514.73</td>\n",
       "      <td>Settle</td>\n",
       "      <td>58.0</td>\n",
       "      <td>32.22</td>\n",
       "    </tr>\n",
       "    <tr>\n",
       "      <td>36245</td>\n",
       "      <td>2010010867360</td>\n",
       "      <td>2009-12-30</td>\n",
       "      <td>2009-12-14 08:30:00</td>\n",
       "      <td>SJU</td>\n",
       "      <td>Luis Munoz Marin International</td>\n",
       "      <td>American Airlines</td>\n",
       "      <td>Property Damage</td>\n",
       "      <td>Checked Baggage</td>\n",
       "      <td>Alcoholic beverages; Cosmetics - Perfume; toil...</td>\n",
       "      <td>185.00</td>\n",
       "      <td>Settled</td>\n",
       "      <td>179.23</td>\n",
       "      <td>Settle</td>\n",
       "      <td>15.0</td>\n",
       "      <td>5.77</td>\n",
       "    </tr>\n",
       "    <tr>\n",
       "      <td>36246</td>\n",
       "      <td>2010010667197</td>\n",
       "      <td>2009-12-31</td>\n",
       "      <td>2009-12-10 12:40:00</td>\n",
       "      <td>DEN</td>\n",
       "      <td>Denver International Airport</td>\n",
       "      <td>UAL</td>\n",
       "      <td>Passenger Property Loss</td>\n",
       "      <td>Checked Baggage</td>\n",
       "      <td>Clothing - Shoes; belts; accessories; etc.</td>\n",
       "      <td>70.00</td>\n",
       "      <td>Approved</td>\n",
       "      <td>70.00</td>\n",
       "      <td>Approve in Full</td>\n",
       "      <td>20.0</td>\n",
       "      <td>0.00</td>\n",
       "    </tr>\n",
       "    <tr>\n",
       "      <td>36248</td>\n",
       "      <td>2009122866807</td>\n",
       "      <td>2009-12-31</td>\n",
       "      <td>2009-11-21 09:20:00</td>\n",
       "      <td>JFK</td>\n",
       "      <td>John F. Kennedy International</td>\n",
       "      <td>American Airlines</td>\n",
       "      <td>Property Damage</td>\n",
       "      <td>Checkpoint</td>\n",
       "      <td>Computer - Laptop</td>\n",
       "      <td>1228.95</td>\n",
       "      <td>Settled</td>\n",
       "      <td>826.72</td>\n",
       "      <td>Settle</td>\n",
       "      <td>39.0</td>\n",
       "      <td>402.23</td>\n",
       "    </tr>\n",
       "  </tbody>\n",
       "</table>\n",
       "<p>23739 rows × 15 columns</p>\n",
       "</div>"
      ],
      "text/plain": [
       "        Claim Number Date Received       Incident Date Airport Code  \\\n",
       "0           0909816M    2002-02-07 2003-01-06 00:00:00          MIA   \n",
       "3              16759    2002-08-21 2002-07-12 00:00:00          BWI   \n",
       "14             18908    2002-10-09 2002-09-09 00:00:00          RDU   \n",
       "17             21052    2002-10-17 2002-09-22 00:00:00          MCO   \n",
       "21             18614    2002-10-17 2002-09-14 00:00:00          MCO   \n",
       "...              ...           ...                 ...          ...   \n",
       "36243  2010010667221    2009-12-30 2009-12-01 16:40:00          AUS   \n",
       "36244  2010010867347    2009-12-30 2009-11-02 00:00:00          ORD   \n",
       "36245  2010010867360    2009-12-30 2009-12-14 08:30:00          SJU   \n",
       "36246  2010010667197    2009-12-31 2009-12-10 12:40:00          DEN   \n",
       "36248  2009122866807    2009-12-31 2009-11-21 09:20:00          JFK   \n",
       "\n",
       "                                      Airport Name          Airline Name  \\\n",
       "0                      Miami International Airport     American Airlines   \n",
       "3      Baltimore/Washington Intl Thurgood Marshall    Southwest Airlines   \n",
       "14                    Raleigh-Durham International  Continental Airlines   \n",
       "17                   Orlando International Airport       Virgin Atlantic   \n",
       "21                   Orlando International Airport     American Airlines   \n",
       "...                                            ...                   ...   \n",
       "36243       Austin-Bergstrom International Airport       Alaska Airlines   \n",
       "36244         Chicago O'Hare International Airport                   UAL   \n",
       "36245               Luis Munoz Marin International     American Airlines   \n",
       "36246                 Denver International Airport                   UAL   \n",
       "36248                John F. Kennedy International     American Airlines   \n",
       "\n",
       "                    Claim Type       Claim Site  \\\n",
       "0              Property Damage       Checkpoint   \n",
       "3      Passenger Property Loss       Checkpoint   \n",
       "14             Property Damage       Checkpoint   \n",
       "17             Property Damage       Checkpoint   \n",
       "21             Property Damage       Checkpoint   \n",
       "...                        ...              ...   \n",
       "36243          Property Damage  Checked Baggage   \n",
       "36244  Passenger Property Loss  Checked Baggage   \n",
       "36245          Property Damage  Checked Baggage   \n",
       "36246  Passenger Property Loss  Checked Baggage   \n",
       "36248          Property Damage       Checkpoint   \n",
       "\n",
       "                                                    Item  Claim Amount  \\\n",
       "0              Luggage (all types including footlockers)         50.00   \n",
       "3                                                  Other         21.44   \n",
       "14                                                 Other        342.36   \n",
       "17               Eyeglasses - (including contact lenses)         60.00   \n",
       "21                                     Computer - Laptop       2000.00   \n",
       "...                                                  ...           ...   \n",
       "36243                    Medical Equipment & Insturments         80.00   \n",
       "36244  DVD/CD Players; Handbags & Purses (leather or ...        546.95   \n",
       "36245  Alcoholic beverages; Cosmetics - Perfume; toil...        185.00   \n",
       "36246         Clothing - Shoes; belts; accessories; etc.         70.00   \n",
       "36248                                  Computer - Laptop       1228.95   \n",
       "\n",
       "         Status  Close Amount      Disposition  Day Differences  \\\n",
       "0      Approved         50.00  Approve in Full           -333.0   \n",
       "3      Approved         21.00  Approve in Full             40.0   \n",
       "14     Approved        237.00  Approve in Full             30.0   \n",
       "17     Approved         60.00  Approve in Full             25.0   \n",
       "21      Settled        600.00           Settle             33.0   \n",
       "...         ...           ...              ...              ...   \n",
       "36243   Settled         72.00           Settle             28.0   \n",
       "36244   Settled        514.73           Settle             58.0   \n",
       "36245   Settled        179.23           Settle             15.0   \n",
       "36246  Approved         70.00  Approve in Full             20.0   \n",
       "36248   Settled        826.72           Settle             39.0   \n",
       "\n",
       "       Amount Differences  \n",
       "0                    0.00  \n",
       "3                    0.44  \n",
       "14                 105.36  \n",
       "17                   0.00  \n",
       "21                1400.00  \n",
       "...                   ...  \n",
       "36243                8.00  \n",
       "36244               32.22  \n",
       "36245                5.77  \n",
       "36246                0.00  \n",
       "36248              402.23  \n",
       "\n",
       "[23739 rows x 15 columns]"
      ]
     },
     "execution_count": 60,
     "metadata": {},
     "output_type": "execute_result"
    }
   ],
   "source": [
    "data_normal.dropna()"
   ]
  },
  {
   "cell_type": "code",
   "execution_count": 61,
   "metadata": {},
   "outputs": [
    {
     "data": {
      "text/plain": [
       "Claim Number             0\n",
       "Date Received           33\n",
       "Incident Date           90\n",
       "Airport Code           922\n",
       "Airport Name           922\n",
       "Airline Name          7073\n",
       "Claim Type            1343\n",
       "Claim Site              74\n",
       "Item                   811\n",
       "Claim Amount             0\n",
       "Status                   0\n",
       "Close Amount             0\n",
       "Disposition           1201\n",
       "Day Differences        123\n",
       "Amount Differences       0\n",
       "dtype: int64"
      ]
     },
     "execution_count": 61,
     "metadata": {},
     "output_type": "execute_result"
    }
   ],
   "source": [
    "data_normal.isna().sum()"
   ]
  },
  {
   "cell_type": "code",
   "execution_count": 62,
   "metadata": {},
   "outputs": [],
   "source": [
    "data_normal.to_csv('tsa_claims_dashboard_ujian.csv',index=False)"
   ]
  },
  {
   "cell_type": "code",
   "execution_count": 63,
   "metadata": {},
   "outputs": [],
   "source": [
    "# import dash\n",
    "# import dash_core_components as dcc\n",
    "# import dash_html_components as html\n",
    "# import plotly.graph_objs as go\n",
    "# import pandas as pd\n",
    "# import seaborn as sns\n",
    "# import dash_table\n",
    "\n",
    "# def generate_table(dataframe, page_size=10):\n",
    "#     return dash_table.DataTable(\n",
    "#         id='dataTable',\n",
    "#         columns=[{\n",
    "#             \"name\": i,\n",
    "#             \"id\": i\n",
    "#         } for i in dataframe.columns],\n",
    "#         data=dataframe.to_dict('records'),\n",
    "#         page_action=\"native\",\n",
    "#         page_current=0,\n",
    "#         page_size=page_size,\n",
    "#     )\n",
    "\n",
    "# tips = pd.read_csv('tsa_claims_dashboard_ujian.csv')\n",
    "# external_stylesheets = ['https://codepen.io/chriddyp/pen/bWLwgP.css']\n",
    "\n",
    "# app = dash.Dash(__name__, external_stylesheets=external_stylesheets)\n",
    "\n",
    "# app.layout = html.Div(\n",
    "#     children=[\n",
    "#         html.H1('Dashboard Ujian Modul 2'),\n",
    "#         html.Div(children='''\n",
    "#         Created by: Idame Kinanti'''),\n",
    "#         html.Br(),\n",
    "#         html.Div(id='div-table',\n",
    "#             children=[generate_table(tips)])\n",
    "#     ])\n",
    "    \n",
    "# if __name__ == '__main__':\n",
    "#     app.run_server(debug=True)"
   ]
  },
  {
   "cell_type": "markdown",
   "metadata": {},
   "source": [
    "### SQL"
   ]
  },
  {
   "cell_type": "markdown",
   "metadata": {},
   "source": [
    "Export the data to your SQL database, and try to connect the database to the dashboard"
   ]
  },
  {
   "cell_type": "code",
   "execution_count": 64,
   "metadata": {},
   "outputs": [],
   "source": [
    "import pandas as pd\n",
    "import mysql.connector\n",
    "conn = mysql.connector.connect(\n",
    "    host = 'localhost',\n",
    "    user = 'root',\n",
    "    passwd = 'idame123')"
   ]
  },
  {
   "cell_type": "code",
   "execution_count": 65,
   "metadata": {},
   "outputs": [],
   "source": [
    "cursor = conn.cursor(dictionary = True)\n",
    "cursor.execute('use TSA_claim')"
   ]
  },
  {
   "cell_type": "code",
   "execution_count": 66,
   "metadata": {},
   "outputs": [],
   "source": [
    "conn.close()"
   ]
  },
  {
   "cell_type": "code",
   "execution_count": null,
   "metadata": {},
   "outputs": [],
   "source": []
  }
 ],
 "metadata": {
  "hide_input": false,
  "kernelspec": {
   "display_name": "Python 3",
   "language": "python",
   "name": "python3"
  },
  "language_info": {
   "codemirror_mode": {
    "name": "ipython",
    "version": 3
   },
   "file_extension": ".py",
   "mimetype": "text/x-python",
   "name": "python",
   "nbconvert_exporter": "python",
   "pygments_lexer": "ipython3",
   "version": "3.7.4"
  },
  "varInspector": {
   "cols": {
    "lenName": 16,
    "lenType": 16,
    "lenVar": 40
   },
   "kernels_config": {
    "python": {
     "delete_cmd_postfix": "",
     "delete_cmd_prefix": "del ",
     "library": "var_list.py",
     "varRefreshCmd": "print(var_dic_list())"
    },
    "r": {
     "delete_cmd_postfix": ") ",
     "delete_cmd_prefix": "rm(",
     "library": "var_list.r",
     "varRefreshCmd": "cat(var_dic_list()) "
    }
   },
   "types_to_exclude": [
    "module",
    "function",
    "builtin_function_or_method",
    "instance",
    "_Feature"
   ],
   "window_display": false
  }
 },
 "nbformat": 4,
 "nbformat_minor": 2
}
